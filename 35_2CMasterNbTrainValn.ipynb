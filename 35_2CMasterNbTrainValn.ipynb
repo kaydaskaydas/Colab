{
  "nbformat": 4,
  "nbformat_minor": 0,
  "metadata": {
    "colab": {
      "provenance": [],
      "authorship_tag": "ABX9TyMYongYVmLBIBRFAUU+CoW5",
      "include_colab_link": true
    },
    "kernelspec": {
      "name": "python3",
      "display_name": "Python 3"
    },
    "language_info": {
      "name": "python"
    }
  },
  "cells": [
    {
      "cell_type": "markdown",
      "metadata": {
        "id": "view-in-github",
        "colab_type": "text"
      },
      "source": [
        "<a href=\"https://colab.research.google.com/github/kaydaskaydas/Colab/blob/main/35_2CMasterNbTrainValn.ipynb\" target=\"_parent\"><img src=\"https://colab.research.google.com/assets/colab-badge.svg\" alt=\"Open In Colab\"/></a>"
      ]
    },
    {
      "cell_type": "code",
      "execution_count": null,
      "metadata": {
        "id": "9t3H2hmULrlR"
      },
      "outputs": [],
      "source": [
        "import pandas as pd"
      ]
    },
    {
      "cell_type": "code",
      "source": [
        "df=pd.read_csv('/content/SNL_18650_NMC_35C_0-100_0.5-2C_a_cycle_data.csv')"
      ],
      "metadata": {
        "id": "snnxG1_1MERQ"
      },
      "execution_count": null,
      "outputs": []
    },
    {
      "cell_type": "code",
      "source": [
        "df"
      ],
      "metadata": {
        "colab": {
          "base_uri": "https://localhost:8080/",
          "height": 679
        },
        "id": "9Alk0YAcMJXv",
        "outputId": "6a3a8fab-b69c-429a-d94e-e93800d6289f"
      },
      "execution_count": null,
      "outputs": [
        {
          "output_type": "execute_result",
          "data": {
            "text/plain": [
              "     Cycle_Index                  Start_Time                    End_Time  \\\n",
              "0            1.0  2018-02-27 13:11:35.071900  2018-02-27 17:37:06.353352   \n",
              "1            2.0  2018-02-27 17:37:06.372248  2018-02-27 21:19:00.863084   \n",
              "2            3.0  2018-02-27 21:19:00.881172  2018-02-28 01:48:31.473316   \n",
              "3            4.0  2018-02-28 01:48:31.494260  2018-02-28 07:39:04.402464   \n",
              "4            5.0  2018-02-28 07:39:04.424088  2018-02-28 10:38:03.141340   \n",
              "..           ...                         ...                         ...   \n",
              "780        782.0  2018-10-07 02:57:49.397292  2018-10-07 05:19:54.368260   \n",
              "781        783.0  2018-10-07 05:19:54.451144  2018-10-07 09:03:17.434832   \n",
              "782        784.0  2018-10-07 09:03:17.480848  2018-10-07 12:47:19.389520   \n",
              "783        785.0  2018-10-07 12:47:19.438836  2018-10-07 16:31:25.805456   \n",
              "784        786.0  2018-10-07 16:31:25.852972  2018-10-07 16:32:25.852472   \n",
              "\n",
              "     Test_Time (s)  Min_Current (A)  Max_Current (A)  Min_Voltage (V)  \\\n",
              "0        15941.288           -1.500            1.500            1.999   \n",
              "1        29255.798           -1.500            1.582            1.999   \n",
              "2        45426.408           -1.500            1.500            1.999   \n",
              "3        66459.337           -6.000            1.499            1.999   \n",
              "4        77198.076           -6.000            1.499            1.998   \n",
              "..             ...              ...              ...              ...   \n",
              "780    7400692.594           -6.000            1.500            1.996   \n",
              "781    7414095.660           -6.000            1.500            1.995   \n",
              "782    7427537.615           -1.500            1.500            1.999   \n",
              "783    7440984.031           -1.499            1.500            1.999   \n",
              "784    7441044.078            0.000            0.000            2.727   \n",
              "\n",
              "     Max_Voltage (V)  Charge_Capacity (Ah)  Discharge_Capacity (Ah)  \\\n",
              "0              4.200                 2.856                    2.957   \n",
              "1              4.200                 2.530                    2.516   \n",
              "2              4.200                 2.965                    2.951   \n",
              "3              4.200                 5.863                    5.800   \n",
              "4              4.200                 2.906                    2.894   \n",
              "..               ...                   ...                      ...   \n",
              "780            4.200                 2.353                    2.352   \n",
              "781            4.200                 2.353                    2.370   \n",
              "782            4.200                 2.369                    2.370   \n",
              "783            4.200                 2.370                    2.371   \n",
              "784            2.739                 0.000                    0.000   \n",
              "\n",
              "     Charge_Energy (Wh)  Discharge_Energy (Wh)  \n",
              "0                11.086                 10.432  \n",
              "1                 9.592                  8.740  \n",
              "2                11.411                 10.467  \n",
              "3                22.602                 18.801  \n",
              "4                11.189                  9.439  \n",
              "..                  ...                    ...  \n",
              "780               9.146                  7.774  \n",
              "781               9.145                  8.562  \n",
              "782               9.215                  8.564  \n",
              "783               9.221                  8.565  \n",
              "784               0.000                  0.000  \n",
              "\n",
              "[785 rows x 12 columns]"
            ],
            "text/html": [
              "\n",
              "  <div id=\"df-21948aab-7a82-411a-841d-902e32e9581b\">\n",
              "    <div class=\"colab-df-container\">\n",
              "      <div>\n",
              "<style scoped>\n",
              "    .dataframe tbody tr th:only-of-type {\n",
              "        vertical-align: middle;\n",
              "    }\n",
              "\n",
              "    .dataframe tbody tr th {\n",
              "        vertical-align: top;\n",
              "    }\n",
              "\n",
              "    .dataframe thead th {\n",
              "        text-align: right;\n",
              "    }\n",
              "</style>\n",
              "<table border=\"1\" class=\"dataframe\">\n",
              "  <thead>\n",
              "    <tr style=\"text-align: right;\">\n",
              "      <th></th>\n",
              "      <th>Cycle_Index</th>\n",
              "      <th>Start_Time</th>\n",
              "      <th>End_Time</th>\n",
              "      <th>Test_Time (s)</th>\n",
              "      <th>Min_Current (A)</th>\n",
              "      <th>Max_Current (A)</th>\n",
              "      <th>Min_Voltage (V)</th>\n",
              "      <th>Max_Voltage (V)</th>\n",
              "      <th>Charge_Capacity (Ah)</th>\n",
              "      <th>Discharge_Capacity (Ah)</th>\n",
              "      <th>Charge_Energy (Wh)</th>\n",
              "      <th>Discharge_Energy (Wh)</th>\n",
              "    </tr>\n",
              "  </thead>\n",
              "  <tbody>\n",
              "    <tr>\n",
              "      <th>0</th>\n",
              "      <td>1.0</td>\n",
              "      <td>2018-02-27 13:11:35.071900</td>\n",
              "      <td>2018-02-27 17:37:06.353352</td>\n",
              "      <td>15941.288</td>\n",
              "      <td>-1.500</td>\n",
              "      <td>1.500</td>\n",
              "      <td>1.999</td>\n",
              "      <td>4.200</td>\n",
              "      <td>2.856</td>\n",
              "      <td>2.957</td>\n",
              "      <td>11.086</td>\n",
              "      <td>10.432</td>\n",
              "    </tr>\n",
              "    <tr>\n",
              "      <th>1</th>\n",
              "      <td>2.0</td>\n",
              "      <td>2018-02-27 17:37:06.372248</td>\n",
              "      <td>2018-02-27 21:19:00.863084</td>\n",
              "      <td>29255.798</td>\n",
              "      <td>-1.500</td>\n",
              "      <td>1.582</td>\n",
              "      <td>1.999</td>\n",
              "      <td>4.200</td>\n",
              "      <td>2.530</td>\n",
              "      <td>2.516</td>\n",
              "      <td>9.592</td>\n",
              "      <td>8.740</td>\n",
              "    </tr>\n",
              "    <tr>\n",
              "      <th>2</th>\n",
              "      <td>3.0</td>\n",
              "      <td>2018-02-27 21:19:00.881172</td>\n",
              "      <td>2018-02-28 01:48:31.473316</td>\n",
              "      <td>45426.408</td>\n",
              "      <td>-1.500</td>\n",
              "      <td>1.500</td>\n",
              "      <td>1.999</td>\n",
              "      <td>4.200</td>\n",
              "      <td>2.965</td>\n",
              "      <td>2.951</td>\n",
              "      <td>11.411</td>\n",
              "      <td>10.467</td>\n",
              "    </tr>\n",
              "    <tr>\n",
              "      <th>3</th>\n",
              "      <td>4.0</td>\n",
              "      <td>2018-02-28 01:48:31.494260</td>\n",
              "      <td>2018-02-28 07:39:04.402464</td>\n",
              "      <td>66459.337</td>\n",
              "      <td>-6.000</td>\n",
              "      <td>1.499</td>\n",
              "      <td>1.999</td>\n",
              "      <td>4.200</td>\n",
              "      <td>5.863</td>\n",
              "      <td>5.800</td>\n",
              "      <td>22.602</td>\n",
              "      <td>18.801</td>\n",
              "    </tr>\n",
              "    <tr>\n",
              "      <th>4</th>\n",
              "      <td>5.0</td>\n",
              "      <td>2018-02-28 07:39:04.424088</td>\n",
              "      <td>2018-02-28 10:38:03.141340</td>\n",
              "      <td>77198.076</td>\n",
              "      <td>-6.000</td>\n",
              "      <td>1.499</td>\n",
              "      <td>1.998</td>\n",
              "      <td>4.200</td>\n",
              "      <td>2.906</td>\n",
              "      <td>2.894</td>\n",
              "      <td>11.189</td>\n",
              "      <td>9.439</td>\n",
              "    </tr>\n",
              "    <tr>\n",
              "      <th>...</th>\n",
              "      <td>...</td>\n",
              "      <td>...</td>\n",
              "      <td>...</td>\n",
              "      <td>...</td>\n",
              "      <td>...</td>\n",
              "      <td>...</td>\n",
              "      <td>...</td>\n",
              "      <td>...</td>\n",
              "      <td>...</td>\n",
              "      <td>...</td>\n",
              "      <td>...</td>\n",
              "      <td>...</td>\n",
              "    </tr>\n",
              "    <tr>\n",
              "      <th>780</th>\n",
              "      <td>782.0</td>\n",
              "      <td>2018-10-07 02:57:49.397292</td>\n",
              "      <td>2018-10-07 05:19:54.368260</td>\n",
              "      <td>7400692.594</td>\n",
              "      <td>-6.000</td>\n",
              "      <td>1.500</td>\n",
              "      <td>1.996</td>\n",
              "      <td>4.200</td>\n",
              "      <td>2.353</td>\n",
              "      <td>2.352</td>\n",
              "      <td>9.146</td>\n",
              "      <td>7.774</td>\n",
              "    </tr>\n",
              "    <tr>\n",
              "      <th>781</th>\n",
              "      <td>783.0</td>\n",
              "      <td>2018-10-07 05:19:54.451144</td>\n",
              "      <td>2018-10-07 09:03:17.434832</td>\n",
              "      <td>7414095.660</td>\n",
              "      <td>-6.000</td>\n",
              "      <td>1.500</td>\n",
              "      <td>1.995</td>\n",
              "      <td>4.200</td>\n",
              "      <td>2.353</td>\n",
              "      <td>2.370</td>\n",
              "      <td>9.145</td>\n",
              "      <td>8.562</td>\n",
              "    </tr>\n",
              "    <tr>\n",
              "      <th>782</th>\n",
              "      <td>784.0</td>\n",
              "      <td>2018-10-07 09:03:17.480848</td>\n",
              "      <td>2018-10-07 12:47:19.389520</td>\n",
              "      <td>7427537.615</td>\n",
              "      <td>-1.500</td>\n",
              "      <td>1.500</td>\n",
              "      <td>1.999</td>\n",
              "      <td>4.200</td>\n",
              "      <td>2.369</td>\n",
              "      <td>2.370</td>\n",
              "      <td>9.215</td>\n",
              "      <td>8.564</td>\n",
              "    </tr>\n",
              "    <tr>\n",
              "      <th>783</th>\n",
              "      <td>785.0</td>\n",
              "      <td>2018-10-07 12:47:19.438836</td>\n",
              "      <td>2018-10-07 16:31:25.805456</td>\n",
              "      <td>7440984.031</td>\n",
              "      <td>-1.499</td>\n",
              "      <td>1.500</td>\n",
              "      <td>1.999</td>\n",
              "      <td>4.200</td>\n",
              "      <td>2.370</td>\n",
              "      <td>2.371</td>\n",
              "      <td>9.221</td>\n",
              "      <td>8.565</td>\n",
              "    </tr>\n",
              "    <tr>\n",
              "      <th>784</th>\n",
              "      <td>786.0</td>\n",
              "      <td>2018-10-07 16:31:25.852972</td>\n",
              "      <td>2018-10-07 16:32:25.852472</td>\n",
              "      <td>7441044.078</td>\n",
              "      <td>0.000</td>\n",
              "      <td>0.000</td>\n",
              "      <td>2.727</td>\n",
              "      <td>2.739</td>\n",
              "      <td>0.000</td>\n",
              "      <td>0.000</td>\n",
              "      <td>0.000</td>\n",
              "      <td>0.000</td>\n",
              "    </tr>\n",
              "  </tbody>\n",
              "</table>\n",
              "<p>785 rows × 12 columns</p>\n",
              "</div>\n",
              "      <button class=\"colab-df-convert\" onclick=\"convertToInteractive('df-21948aab-7a82-411a-841d-902e32e9581b')\"\n",
              "              title=\"Convert this dataframe to an interactive table.\"\n",
              "              style=\"display:none;\">\n",
              "        \n",
              "  <svg xmlns=\"http://www.w3.org/2000/svg\" height=\"24px\"viewBox=\"0 0 24 24\"\n",
              "       width=\"24px\">\n",
              "    <path d=\"M0 0h24v24H0V0z\" fill=\"none\"/>\n",
              "    <path d=\"M18.56 5.44l.94 2.06.94-2.06 2.06-.94-2.06-.94-.94-2.06-.94 2.06-2.06.94zm-11 1L8.5 8.5l.94-2.06 2.06-.94-2.06-.94L8.5 2.5l-.94 2.06-2.06.94zm10 10l.94 2.06.94-2.06 2.06-.94-2.06-.94-.94-2.06-.94 2.06-2.06.94z\"/><path d=\"M17.41 7.96l-1.37-1.37c-.4-.4-.92-.59-1.43-.59-.52 0-1.04.2-1.43.59L10.3 9.45l-7.72 7.72c-.78.78-.78 2.05 0 2.83L4 21.41c.39.39.9.59 1.41.59.51 0 1.02-.2 1.41-.59l7.78-7.78 2.81-2.81c.8-.78.8-2.07 0-2.86zM5.41 20L4 18.59l7.72-7.72 1.47 1.35L5.41 20z\"/>\n",
              "  </svg>\n",
              "      </button>\n",
              "      \n",
              "  <style>\n",
              "    .colab-df-container {\n",
              "      display:flex;\n",
              "      flex-wrap:wrap;\n",
              "      gap: 12px;\n",
              "    }\n",
              "\n",
              "    .colab-df-convert {\n",
              "      background-color: #E8F0FE;\n",
              "      border: none;\n",
              "      border-radius: 50%;\n",
              "      cursor: pointer;\n",
              "      display: none;\n",
              "      fill: #1967D2;\n",
              "      height: 32px;\n",
              "      padding: 0 0 0 0;\n",
              "      width: 32px;\n",
              "    }\n",
              "\n",
              "    .colab-df-convert:hover {\n",
              "      background-color: #E2EBFA;\n",
              "      box-shadow: 0px 1px 2px rgba(60, 64, 67, 0.3), 0px 1px 3px 1px rgba(60, 64, 67, 0.15);\n",
              "      fill: #174EA6;\n",
              "    }\n",
              "\n",
              "    [theme=dark] .colab-df-convert {\n",
              "      background-color: #3B4455;\n",
              "      fill: #D2E3FC;\n",
              "    }\n",
              "\n",
              "    [theme=dark] .colab-df-convert:hover {\n",
              "      background-color: #434B5C;\n",
              "      box-shadow: 0px 1px 3px 1px rgba(0, 0, 0, 0.15);\n",
              "      filter: drop-shadow(0px 1px 2px rgba(0, 0, 0, 0.3));\n",
              "      fill: #FFFFFF;\n",
              "    }\n",
              "  </style>\n",
              "\n",
              "      <script>\n",
              "        const buttonEl =\n",
              "          document.querySelector('#df-21948aab-7a82-411a-841d-902e32e9581b button.colab-df-convert');\n",
              "        buttonEl.style.display =\n",
              "          google.colab.kernel.accessAllowed ? 'block' : 'none';\n",
              "\n",
              "        async function convertToInteractive(key) {\n",
              "          const element = document.querySelector('#df-21948aab-7a82-411a-841d-902e32e9581b');\n",
              "          const dataTable =\n",
              "            await google.colab.kernel.invokeFunction('convertToInteractive',\n",
              "                                                     [key], {});\n",
              "          if (!dataTable) return;\n",
              "\n",
              "          const docLinkHtml = 'Like what you see? Visit the ' +\n",
              "            '<a target=\"_blank\" href=https://colab.research.google.com/notebooks/data_table.ipynb>data table notebook</a>'\n",
              "            + ' to learn more about interactive tables.';\n",
              "          element.innerHTML = '';\n",
              "          dataTable['output_type'] = 'display_data';\n",
              "          await google.colab.output.renderOutput(dataTable, element);\n",
              "          const docLink = document.createElement('div');\n",
              "          docLink.innerHTML = docLinkHtml;\n",
              "          element.appendChild(docLink);\n",
              "        }\n",
              "      </script>\n",
              "    </div>\n",
              "  </div>\n",
              "  "
            ]
          },
          "metadata": {},
          "execution_count": 5
        }
      ]
    },
    {
      "cell_type": "code",
      "source": [
        "import matplotlib.pyplot as plt\n",
        "plt.scatter(df.Cycle_Index,df['Charge_Capacity (Ah)'])"
      ],
      "metadata": {
        "colab": {
          "base_uri": "https://localhost:8080/",
          "height": 282
        },
        "id": "648GE4_lMJyz",
        "outputId": "aa32b44c-c51c-4d2c-f08a-acd91ae8916d"
      },
      "execution_count": null,
      "outputs": [
        {
          "output_type": "execute_result",
          "data": {
            "text/plain": [
              "<matplotlib.collections.PathCollection at 0x7f2c220efe50>"
            ]
          },
          "metadata": {},
          "execution_count": 6
        },
        {
          "output_type": "display_data",
          "data": {
            "text/plain": [
              "<Figure size 432x288 with 1 Axes>"
            ],
            "image/png": "[encoded data removed]"
          },
          "metadata": {
            "needs_background": "light"
          }
        }
      ]
    },
    {
      "cell_type": "code",
      "source": [
        "df2=df[(df['Charge_Capacity (Ah)']>2.35) & (df['Charge_Capacity (Ah)']<3.5)]"
      ],
      "metadata": {
        "id": "NvRaUOZJM66t"
      },
      "execution_count": null,
      "outputs": []
    },
    {
      "cell_type": "code",
      "source": [
        "plt.scatter(df2.Cycle_Index,df2['Charge_Capacity (Ah)'],alpha=0.3);\n",
        "plt.xlabel('Cycle Index')\n",
        "plt.ylabel('Charge_Capacity (Ah)');\n",
        "plt.title('Charge capacity vs Cycle index')"
      ],
      "metadata": {
        "colab": {
          "base_uri": "https://localhost:8080/",
          "height": 312
        },
        "id": "hahoevRYNUE9",
        "outputId": "0a0037c7-0661-4047-fb50-c3a7184bbeb3"
      },
      "execution_count": null,
      "outputs": [
        {
          "output_type": "execute_result",
          "data": {
            "text/plain": [
              "Text(0.5, 1.0, 'Charge capacity vs Cycle index')"
            ]
          },
          "metadata": {},
          "execution_count": 22
        },
        {
          "output_type": "display_data",
          "data": {
            "text/plain": [
              "<Figure size 432x288 with 1 Axes>"
            ],
            "image/png": "[encoded data removed]"
          },
          "metadata": {
            "needs_background": "light"
          }
        }
      ]
    },
    {
      "cell_type": "code",
      "source": [
        "df[(df['Cycle_Index']<50) & (df['Charge_Capacity (Ah)']<2.6)]"
      ],
      "metadata": {
        "id": "gG1k7KdGGF7I",
        "colab": {
          "base_uri": "https://localhost:8080/",
          "height": 179
        },
        "outputId": "acde37aa-fec7-4632-e2ae-356a99f80d39"
      },
      "execution_count": null,
      "outputs": [
        {
          "output_type": "execute_result",
          "data": {
            "text/plain": [
              "   Cycle_Index                  Start_Time                    End_Time  \\\n",
              "1          2.0  2018-02-27 17:37:06.372248  2018-02-27 21:19:00.863084   \n",
              "\n",
              "   Test_Time (s)  Min_Current (A)  Max_Current (A)  Min_Voltage (V)  \\\n",
              "1      29255.798             -1.5            1.582            1.999   \n",
              "\n",
              "   Max_Voltage (V)  Charge_Capacity (Ah)  Discharge_Capacity (Ah)  \\\n",
              "1              4.2                  2.53                    2.516   \n",
              "\n",
              "   Charge_Energy (Wh)  Discharge_Energy (Wh)  \n",
              "1               9.592                   8.74  "
            ],
            "text/html": [
              "\n",
              "  <div id=\"df-d7571f1a-6a57-4b06-ac41-7d0b6c5f7350\">\n",
              "    <div class=\"colab-df-container\">\n",
              "      <div>\n",
              "<style scoped>\n",
              "    .dataframe tbody tr th:only-of-type {\n",
              "        vertical-align: middle;\n",
              "    }\n",
              "\n",
              "    .dataframe tbody tr th {\n",
              "        vertical-align: top;\n",
              "    }\n",
              "\n",
              "    .dataframe thead th {\n",
              "        text-align: right;\n",
              "    }\n",
              "</style>\n",
              "<table border=\"1\" class=\"dataframe\">\n",
              "  <thead>\n",
              "    <tr style=\"text-align: right;\">\n",
              "      <th></th>\n",
              "      <th>Cycle_Index</th>\n",
              "      <th>Start_Time</th>\n",
              "      <th>End_Time</th>\n",
              "      <th>Test_Time (s)</th>\n",
              "      <th>Min_Current (A)</th>\n",
              "      <th>Max_Current (A)</th>\n",
              "      <th>Min_Voltage (V)</th>\n",
              "      <th>Max_Voltage (V)</th>\n",
              "      <th>Charge_Capacity (Ah)</th>\n",
              "      <th>Discharge_Capacity (Ah)</th>\n",
              "      <th>Charge_Energy (Wh)</th>\n",
              "      <th>Discharge_Energy (Wh)</th>\n",
              "    </tr>\n",
              "  </thead>\n",
              "  <tbody>\n",
              "    <tr>\n",
              "      <th>1</th>\n",
              "      <td>2.0</td>\n",
              "      <td>2018-02-27 17:37:06.372248</td>\n",
              "      <td>2018-02-27 21:19:00.863084</td>\n",
              "      <td>29255.798</td>\n",
              "      <td>-1.5</td>\n",
              "      <td>1.582</td>\n",
              "      <td>1.999</td>\n",
              "      <td>4.2</td>\n",
              "      <td>2.53</td>\n",
              "      <td>2.516</td>\n",
              "      <td>9.592</td>\n",
              "      <td>8.74</td>\n",
              "    </tr>\n",
              "  </tbody>\n",
              "</table>\n",
              "</div>\n",
              "      <button class=\"colab-df-convert\" onclick=\"convertToInteractive('df-d7571f1a-6a57-4b06-ac41-7d0b6c5f7350')\"\n",
              "              title=\"Convert this dataframe to an interactive table.\"\n",
              "              style=\"display:none;\">\n",
              "        \n",
              "  <svg xmlns=\"http://www.w3.org/2000/svg\" height=\"24px\"viewBox=\"0 0 24 24\"\n",
              "       width=\"24px\">\n",
              "    <path d=\"M0 0h24v24H0V0z\" fill=\"none\"/>\n",
              "    <path d=\"M18.56 5.44l.94 2.06.94-2.06 2.06-.94-2.06-.94-.94-2.06-.94 2.06-2.06.94zm-11 1L8.5 8.5l.94-2.06 2.06-.94-2.06-.94L8.5 2.5l-.94 2.06-2.06.94zm10 10l.94 2.06.94-2.06 2.06-.94-2.06-.94-.94-2.06-.94 2.06-2.06.94z\"/><path d=\"M17.41 7.96l-1.37-1.37c-.4-.4-.92-.59-1.43-.59-.52 0-1.04.2-1.43.59L10.3 9.45l-7.72 7.72c-.78.78-.78 2.05 0 2.83L4 21.41c.39.39.9.59 1.41.59.51 0 1.02-.2 1.41-.59l7.78-7.78 2.81-2.81c.8-.78.8-2.07 0-2.86zM5.41 20L4 18.59l7.72-7.72 1.47 1.35L5.41 20z\"/>\n",
              "  </svg>\n",
              "      </button>\n",
              "      \n",
              "  <style>\n",
              "    .colab-df-container {\n",
              "      display:flex;\n",
              "      flex-wrap:wrap;\n",
              "      gap: 12px;\n",
              "    }\n",
              "\n",
              "    .colab-df-convert {\n",
              "      background-color: #E8F0FE;\n",
              "      border: none;\n",
              "      border-radius: 50%;\n",
              "      cursor: pointer;\n",
              "      display: none;\n",
              "      fill: #1967D2;\n",
              "      height: 32px;\n",
              "      padding: 0 0 0 0;\n",
              "      width: 32px;\n",
              "    }\n",
              "\n",
              "    .colab-df-convert:hover {\n",
              "      background-color: #E2EBFA;\n",
              "      box-shadow: 0px 1px 2px rgba(60, 64, 67, 0.3), 0px 1px 3px 1px rgba(60, 64, 67, 0.15);\n",
              "      fill: #174EA6;\n",
              "    }\n",
              "\n",
              "    [theme=dark] .colab-df-convert {\n",
              "      background-color: #3B4455;\n",
              "      fill: #D2E3FC;\n",
              "    }\n",
              "\n",
              "    [theme=dark] .colab-df-convert:hover {\n",
              "      background-color: #434B5C;\n",
              "      box-shadow: 0px 1px 3px 1px rgba(0, 0, 0, 0.15);\n",
              "      filter: drop-shadow(0px 1px 2px rgba(0, 0, 0, 0.3));\n",
              "      fill: #FFFFFF;\n",
              "    }\n",
              "  </style>\n",
              "\n",
              "      <script>\n",
              "        const buttonEl =\n",
              "          document.querySelector('#df-d7571f1a-6a57-4b06-ac41-7d0b6c5f7350 button.colab-df-convert');\n",
              "        buttonEl.style.display =\n",
              "          google.colab.kernel.accessAllowed ? 'block' : 'none';\n",
              "\n",
              "        async function convertToInteractive(key) {\n",
              "          const element = document.querySelector('#df-d7571f1a-6a57-4b06-ac41-7d0b6c5f7350');\n",
              "          const dataTable =\n",
              "            await google.colab.kernel.invokeFunction('convertToInteractive',\n",
              "                                                     [key], {});\n",
              "          if (!dataTable) return;\n",
              "\n",
              "          const docLinkHtml = 'Like what you see? Visit the ' +\n",
              "            '<a target=\"_blank\" href=https://colab.research.google.com/notebooks/data_table.ipynb>data table notebook</a>'\n",
              "            + ' to learn more about interactive tables.';\n",
              "          element.innerHTML = '';\n",
              "          dataTable['output_type'] = 'display_data';\n",
              "          await google.colab.output.renderOutput(dataTable, element);\n",
              "          const docLink = document.createElement('div');\n",
              "          docLink.innerHTML = docLinkHtml;\n",
              "          element.appendChild(docLink);\n",
              "        }\n",
              "      </script>\n",
              "    </div>\n",
              "  </div>\n",
              "  "
            ]
          },
          "metadata": {},
          "execution_count": 16
        }
      ]
    },
    {
      "cell_type": "code",
      "source": [
        "df=df.drop(labels=[1])"
      ],
      "metadata": {
        "id": "Odc3X81dMGzU"
      },
      "execution_count": null,
      "outputs": []
    },
    {
      "cell_type": "code",
      "source": [
        "import numpy as np"
      ],
      "metadata": {
        "id": "qcqJTk0dRyog"
      },
      "execution_count": null,
      "outputs": []
    },
    {
      "cell_type": "code",
      "source": [
        "X=np.array(df2['Cycle_Index'])\n",
        "y=np.array(df2['Charge_Capacity (Ah)'])"
      ],
      "metadata": {
        "id": "FWJEKXMEQZd7"
      },
      "execution_count": null,
      "outputs": []
    },
    {
      "cell_type": "code",
      "source": [
        "dfval=pd.read_csv('/content/SNL_18650_NMC_35C_0-100_0.5-2C_b_cycle_data.csv')\n",
        "#dfval"
      ],
      "metadata": {
        "id": "T6A4r0w_72wy"
      },
      "execution_count": null,
      "outputs": []
    },
    {
      "cell_type": "code",
      "source": [
        "plt.scatter(dfval.Cycle_Index,dfval['Charge_Capacity (Ah)'],alpha=0.3);\n",
        "plt.xlabel('Cycle Index')\n",
        "plt.ylabel('Charge_Capacity (Ah)');\n",
        "plt.title('Charge capacity vs Cycle index')"
      ],
      "metadata": {
        "colab": {
          "base_uri": "https://localhost:8080/",
          "height": 312
        },
        "id": "zgQJq-BJ8PnO",
        "outputId": "4c649312-7669-4ed4-f4ac-e8cd37c3f565"
      },
      "execution_count": null,
      "outputs": [
        {
          "output_type": "execute_result",
          "data": {
            "text/plain": [
              "Text(0.5, 1.0, 'Charge capacity vs Cycle index')"
            ]
          },
          "metadata": {},
          "execution_count": 13
        },
        {
          "output_type": "display_data",
          "data": {
            "text/plain": [
              "<Figure size 432x288 with 1 Axes>"
            ],
            "image/png": "[encoded data removed]"
          },
          "metadata": {
            "needs_background": "light"
          }
        }
      ]
    },
    {
      "cell_type": "code",
      "source": [
        "dfval=dfval[(dfval['Charge_Capacity (Ah)']>2.3) & (dfval['Charge_Capacity (Ah)']<3.5)]"
      ],
      "metadata": {
        "id": "gDI5HskY8gur"
      },
      "execution_count": null,
      "outputs": []
    },
    {
      "cell_type": "code",
      "source": [
        "plt.scatter(dfval.Cycle_Index,dfval['Charge_Capacity (Ah)'],alpha=0.3);\n",
        "plt.xlabel('Cycle Index')\n",
        "plt.ylabel('Charge_Capacity (Ah)');\n",
        "plt.title('Charge capacity vs Cycle index')"
      ],
      "metadata": {
        "colab": {
          "base_uri": "https://localhost:8080/",
          "height": 312
        },
        "id": "xDLOYbI38uuk",
        "outputId": "13a66bbc-7e5c-42c7-e064-a88c468a4440"
      },
      "execution_count": null,
      "outputs": [
        {
          "output_type": "execute_result",
          "data": {
            "text/plain": [
              "Text(0.5, 1.0, 'Charge capacity vs Cycle index')"
            ]
          },
          "metadata": {},
          "execution_count": 15
        },
        {
          "output_type": "display_data",
          "data": {
            "text/plain": [
              "<Figure size 432x288 with 1 Axes>"
            ],
            "image/png": "[encoded data removed]"
          },
          "metadata": {
            "needs_background": "light"
          }
        }
      ]
    },
    {
      "cell_type": "code",
      "source": [
        "plt.scatter(dfval.Cycle_Index,dfval['Charge_Capacity (Ah)'],alpha=0.3);\n",
        "plt.xlabel('Cycle Index')\n",
        "plt.ylabel('Charge_Capacity (Ah)');\n",
        "plt.title('Charge capacity vs Cycle index')"
      ],
      "metadata": {
        "colab": {
          "base_uri": "https://localhost:8080/",
          "height": 312
        },
        "id": "_2-ju2cNF8aW",
        "outputId": "f28bb870-8b17-4a08-9700-8ca7a3fcae4c"
      },
      "execution_count": null,
      "outputs": [
        {
          "output_type": "execute_result",
          "data": {
            "text/plain": [
              "Text(0.5, 1.0, 'Charge capacity vs Cycle index')"
            ]
          },
          "metadata": {},
          "execution_count": 18
        },
        {
          "output_type": "display_data",
          "data": {
            "text/plain": [
              "<Figure size 432x288 with 1 Axes>"
            ],
            "image/png": "[encoded data removed]"
          },
          "metadata": {
            "needs_background": "light"
          }
        }
      ]
    },
    {
      "cell_type": "code",
      "source": [
        "Xval=np.array(dfval['Cycle_Index'])"
      ],
      "metadata": {
        "id": "C8dknmhi8JmN"
      },
      "execution_count": null,
      "outputs": []
    },
    {
      "cell_type": "code",
      "source": [
        "yval=np.array(dfval['Charge_Capacity (Ah)'])"
      ],
      "metadata": {
        "id": "eopJV_3O79O-"
      },
      "execution_count": null,
      "outputs": []
    },
    {
      "cell_type": "code",
      "source": [
        "from sklearn.model_selection import train_test_split\n",
        "X_train, X_test, y_train, y_test = train_test_split(X, y, test_size = 0.2)\n"
      ],
      "metadata": {
        "id": "1zROvy2rNzzq"
      },
      "execution_count": null,
      "outputs": []
    },
    {
      "cell_type": "code",
      "source": [
        "y_train = y_train.reshape(-1,1)\n",
        "y_test = y_test.reshape(-1,1)"
      ],
      "metadata": {
        "id": "COlQjdW1SXHb"
      },
      "execution_count": null,
      "outputs": []
    },
    {
      "cell_type": "code",
      "source": [
        "X_train = X_train.reshape(-1,1)\n",
        "X_test = X_test.reshape(-1,1)"
      ],
      "metadata": {
        "id": "Hd20VMuPSdBs"
      },
      "execution_count": null,
      "outputs": []
    },
    {
      "cell_type": "code",
      "source": [
        "from sklearn.svm import SVR\n",
        "regressor = SVR(kernel = 'rbf')\n",
        "regressor.fit(X_train, y_train)"
      ],
      "metadata": {
        "colab": {
          "base_uri": "https://localhost:8080/"
        },
        "id": "MBuqR6aGP9JJ",
        "outputId": "6bbe38ef-9572-4443-9b88-0561172ea1be"
      },
      "execution_count": null,
      "outputs": [
        {
          "output_type": "stream",
          "name": "stderr",
          "text": [
            "/usr/local/lib/python3.8/dist-packages/sklearn/utils/validation.py:993: DataConversionWarning: A column-vector y was passed when a 1d array was expected. Please change the shape of y to (n_samples, ), for example using ravel().\n",
            "  y = column_or_1d(y, warn=True)\n"
          ]
        },
        {
          "output_type": "execute_result",
          "data": {
            "text/plain": [
              "SVR()"
            ]
          },
          "metadata": {},
          "execution_count": 28
        }
      ]
    },
    {
      "cell_type": "code",
      "source": [
        "y_pred=regressor.predict(X_test)"
      ],
      "metadata": {
        "id": "4a4IRKAUP9zr"
      },
      "execution_count": null,
      "outputs": []
    },
    {
      "cell_type": "code",
      "source": [
        "y_pred"
      ],
      "metadata": {
        "colab": {
          "base_uri": "https://localhost:8080/"
        },
        "id": "UY0I8qdZSwrm",
        "outputId": "bc8e4ddf-ad80-4ce4-e73b-636168eefa30"
      },
      "execution_count": null,
      "outputs": [
        {
          "output_type": "execute_result",
          "data": {
            "text/plain": [
              "array([2.47024786, 2.44625583, 2.71946073, 2.47514428, 2.65106525,\n",
              "       2.49891095, 2.61638104, 2.50905417, 2.44700299, 2.45055964,\n",
              "       2.39855029, 2.51652001, 2.67112497, 2.38055185, 2.49362631,\n",
              "       2.41839524, 2.38213035, 2.68191553, 2.63578848, 2.39620556,\n",
              "       2.38977313, 2.73504676, 2.37944699, 2.39047275, 2.75861353,\n",
              "       2.43467559, 2.7769852 , 2.74319892, 2.45123437, 2.39342921,\n",
              "       2.41676254, 2.37926491, 2.3888591 , 2.38683831, 2.39760196,\n",
              "       2.43556416, 2.47087098, 2.49948257, 2.3931524 , 2.4686907 ,\n",
              "       2.72521525, 2.4528669 , 2.39487234, 2.4073209 , 2.61932333,\n",
              "       2.4067723 , 2.53515074, 2.43688149, 2.41068954, 2.46900443,\n",
              "       2.45963032, 2.50185035, 2.37977249, 2.39118864, 2.75234542,\n",
              "       2.47314504, 2.38653487, 2.47198259, 2.44773839, 2.38109624,\n",
              "       2.38191093, 2.69415198, 2.46773353, 2.37938211, 2.39111969,\n",
              "       2.47657216, 2.45756955, 2.38536887, 2.41966075, 2.43860718,\n",
              "       2.47723049, 2.40050232, 2.80520672, 2.38235604, 2.60480447,\n",
              "       2.77804069, 2.40461665, 2.37826202, 2.37882954, 2.39531499,\n",
              "       2.6695804 , 2.40150523, 2.39443471, 2.63427447, 2.43012209,\n",
              "       2.47573892, 2.40000752, 2.40816037, 2.5231417 , 2.37970144,\n",
              "       2.55091368, 2.67883788, 2.40568663, 2.40100158, 2.48047628,\n",
              "       2.40583233, 2.40304208, 2.51731591, 2.43903284, 2.47280606,\n",
              "       2.49670413, 2.44275254, 2.47768664, 2.38257771, 2.8025548 ,\n",
              "       2.37915417, 2.38585035, 2.37860411, 2.46805579, 2.431506  ,\n",
              "       2.48382679, 2.47438723, 2.74847634, 2.39702811, 2.52488842,\n",
              "       2.4013119 , 2.38327629, 2.73227103, 2.44234954, 2.41004767,\n",
              "       2.41962413, 2.65414308, 2.37957121, 2.38466578, 2.51573316,\n",
              "       2.49081512, 2.45411686, 2.38028197, 2.46978246, 2.40957404,\n",
              "       2.4273156 , 2.59220397, 2.62376894, 2.71655019, 2.49513101,\n",
              "       2.71214624, 2.5749392 , 2.42148656, 2.38132803, 2.71508714,\n",
              "       2.38192792, 2.46570052, 2.59357963, 2.40629482, 2.38357779,\n",
              "       2.79892927, 2.79659111, 2.53915655, 2.49172346, 2.41778478,\n",
              "       2.38095633, 2.39744396, 2.48520672, 2.48104032, 2.45156709])"
            ]
          },
          "metadata": {},
          "execution_count": 30
        }
      ]
    },
    {
      "cell_type": "code",
      "source": [
        "from sklearn.metrics import mean_absolute_percentage_error,mean_squared_error,mean_absolute_error\n",
        "mape=mean_absolute_percentage_error(y_test,y_pred)\n",
        "rmse = mean_squared_error(y_test,y_pred, squared=False)\n",
        "mse = mean_squared_error(y_test,y_pred)\n",
        "mae=mean_absolute_error(y_test,y_pred)\n",
        "print(mae,mape,rmse)\n",
        "print(mse)"
      ],
      "metadata": {
        "colab": {
          "base_uri": "https://localhost:8080/"
        },
        "id": "eSKo7TML9E_y",
        "outputId": "d5eecadb-cc95-4874-cdfd-20167838bfc7"
      },
      "execution_count": null,
      "outputs": [
        {
          "output_type": "stream",
          "name": "stdout",
          "text": [
            "0.033182648416233314 0.013265359486194532 0.03614220528624213\n",
            "0.0013062590029528688\n"
          ]
        }
      ]
    },
    {
      "cell_type": "code",
      "source": [
        "plt.title('Support Vector Regressor')\n",
        "plt.scatter(X_test,y_pred,alpha=0.25)\n",
        "plt.scatter(X_test,y_test,color='red',alpha=0.25)\n",
        "plt.xlabel('Cycle index')\n",
        "plt.ylabel('Charge Capacity (Ah)')\n",
        "plt.legend(['Predicted','Actual']);"
      ],
      "metadata": {
        "colab": {
          "base_uri": "https://localhost:8080/",
          "height": 295
        },
        "id": "BfqrYYKsTcNI",
        "outputId": "b36cd460-e3e3-473c-9022-bc8494b75577"
      },
      "execution_count": null,
      "outputs": [
        {
          "output_type": "display_data",
          "data": {
            "text/plain": [
              "<Figure size 432x288 with 1 Axes>"
            ],
            "image/png": "[encoded data removed]"
          },
          "metadata": {
            "needs_background": "light"
          }
        }
      ]
    },
    {
      "cell_type": "code",
      "source": [
        "dfresult=pd.DataFrame({\"X_test\":X_test.flatten(),\"y_test\":y_test.flatten(),\"y_pred\":y_pred.flatten()})\n",
        "dfresult"
      ],
      "metadata": {
        "colab": {
          "base_uri": "https://localhost:8080/",
          "height": 424
        },
        "id": "8LI6E7ThvVbO",
        "outputId": "6cb4e66b-cba3-4f6c-c857-cb752132bf60"
      },
      "execution_count": null,
      "outputs": [
        {
          "output_type": "execute_result",
          "data": {
            "text/plain": [
              "     X_test  y_test    y_pred\n",
              "0     361.0   2.502  2.470248\n",
              "1     461.0   2.479  2.446256\n",
              "2      84.0   2.671  2.719461\n",
              "3     332.0   2.530  2.475144\n",
              "4     129.0   2.627  2.651065\n",
              "..      ...     ...       ...\n",
              "150   622.0   2.414  2.380956\n",
              "151   569.0   2.430  2.397444\n",
              "152   294.0   2.539  2.485207\n",
              "153   307.0   2.528  2.481040\n",
              "154   446.0   2.475  2.451567\n",
              "\n",
              "[155 rows x 3 columns]"
            ],
            "text/html": [
              "\n",
              "  <div id=\"df-83455701-ab12-4531-a756-8d19026ae670\">\n",
              "    <div class=\"colab-df-container\">\n",
              "      <div>\n",
              "<style scoped>\n",
              "    .dataframe tbody tr th:only-of-type {\n",
              "        vertical-align: middle;\n",
              "    }\n",
              "\n",
              "    .dataframe tbody tr th {\n",
              "        vertical-align: top;\n",
              "    }\n",
              "\n",
              "    .dataframe thead th {\n",
              "        text-align: right;\n",
              "    }\n",
              "</style>\n",
              "<table border=\"1\" class=\"dataframe\">\n",
              "  <thead>\n",
              "    <tr style=\"text-align: right;\">\n",
              "      <th></th>\n",
              "      <th>X_test</th>\n",
              "      <th>y_test</th>\n",
              "      <th>y_pred</th>\n",
              "    </tr>\n",
              "  </thead>\n",
              "  <tbody>\n",
              "    <tr>\n",
              "      <th>0</th>\n",
              "      <td>361.0</td>\n",
              "      <td>2.502</td>\n",
              "      <td>2.470248</td>\n",
              "    </tr>\n",
              "    <tr>\n",
              "      <th>1</th>\n",
              "      <td>461.0</td>\n",
              "      <td>2.479</td>\n",
              "      <td>2.446256</td>\n",
              "    </tr>\n",
              "    <tr>\n",
              "      <th>2</th>\n",
              "      <td>84.0</td>\n",
              "      <td>2.671</td>\n",
              "      <td>2.719461</td>\n",
              "    </tr>\n",
              "    <tr>\n",
              "      <th>3</th>\n",
              "      <td>332.0</td>\n",
              "      <td>2.530</td>\n",
              "      <td>2.475144</td>\n",
              "    </tr>\n",
              "    <tr>\n",
              "      <th>4</th>\n",
              "      <td>129.0</td>\n",
              "      <td>2.627</td>\n",
              "      <td>2.651065</td>\n",
              "    </tr>\n",
              "    <tr>\n",
              "      <th>...</th>\n",
              "      <td>...</td>\n",
              "      <td>...</td>\n",
              "      <td>...</td>\n",
              "    </tr>\n",
              "    <tr>\n",
              "      <th>150</th>\n",
              "      <td>622.0</td>\n",
              "      <td>2.414</td>\n",
              "      <td>2.380956</td>\n",
              "    </tr>\n",
              "    <tr>\n",
              "      <th>151</th>\n",
              "      <td>569.0</td>\n",
              "      <td>2.430</td>\n",
              "      <td>2.397444</td>\n",
              "    </tr>\n",
              "    <tr>\n",
              "      <th>152</th>\n",
              "      <td>294.0</td>\n",
              "      <td>2.539</td>\n",
              "      <td>2.485207</td>\n",
              "    </tr>\n",
              "    <tr>\n",
              "      <th>153</th>\n",
              "      <td>307.0</td>\n",
              "      <td>2.528</td>\n",
              "      <td>2.481040</td>\n",
              "    </tr>\n",
              "    <tr>\n",
              "      <th>154</th>\n",
              "      <td>446.0</td>\n",
              "      <td>2.475</td>\n",
              "      <td>2.451567</td>\n",
              "    </tr>\n",
              "  </tbody>\n",
              "</table>\n",
              "<p>155 rows × 3 columns</p>\n",
              "</div>\n",
              "      <button class=\"colab-df-convert\" onclick=\"convertToInteractive('df-83455701-ab12-4531-a756-8d19026ae670')\"\n",
              "              title=\"Convert this dataframe to an interactive table.\"\n",
              "              style=\"display:none;\">\n",
              "        \n",
              "  <svg xmlns=\"http://www.w3.org/2000/svg\" height=\"24px\"viewBox=\"0 0 24 24\"\n",
              "       width=\"24px\">\n",
              "    <path d=\"M0 0h24v24H0V0z\" fill=\"none\"/>\n",
              "    <path d=\"M18.56 5.44l.94 2.06.94-2.06 2.06-.94-2.06-.94-.94-2.06-.94 2.06-2.06.94zm-11 1L8.5 8.5l.94-2.06 2.06-.94-2.06-.94L8.5 2.5l-.94 2.06-2.06.94zm10 10l.94 2.06.94-2.06 2.06-.94-2.06-.94-.94-2.06-.94 2.06-2.06.94z\"/><path d=\"M17.41 7.96l-1.37-1.37c-.4-.4-.92-.59-1.43-.59-.52 0-1.04.2-1.43.59L10.3 9.45l-7.72 7.72c-.78.78-.78 2.05 0 2.83L4 21.41c.39.39.9.59 1.41.59.51 0 1.02-.2 1.41-.59l7.78-7.78 2.81-2.81c.8-.78.8-2.07 0-2.86zM5.41 20L4 18.59l7.72-7.72 1.47 1.35L5.41 20z\"/>\n",
              "  </svg>\n",
              "      </button>\n",
              "      \n",
              "  <style>\n",
              "    .colab-df-container {\n",
              "      display:flex;\n",
              "      flex-wrap:wrap;\n",
              "      gap: 12px;\n",
              "    }\n",
              "\n",
              "    .colab-df-convert {\n",
              "      background-color: #E8F0FE;\n",
              "      border: none;\n",
              "      border-radius: 50%;\n",
              "      cursor: pointer;\n",
              "      display: none;\n",
              "      fill: #1967D2;\n",
              "      height: 32px;\n",
              "      padding: 0 0 0 0;\n",
              "      width: 32px;\n",
              "    }\n",
              "\n",
              "    .colab-df-convert:hover {\n",
              "      background-color: #E2EBFA;\n",
              "      box-shadow: 0px 1px 2px rgba(60, 64, 67, 0.3), 0px 1px 3px 1px rgba(60, 64, 67, 0.15);\n",
              "      fill: #174EA6;\n",
              "    }\n",
              "\n",
              "    [theme=dark] .colab-df-convert {\n",
              "      background-color: #3B4455;\n",
              "      fill: #D2E3FC;\n",
              "    }\n",
              "\n",
              "    [theme=dark] .colab-df-convert:hover {\n",
              "      background-color: #434B5C;\n",
              "      box-shadow: 0px 1px 3px 1px rgba(0, 0, 0, 0.15);\n",
              "      filter: drop-shadow(0px 1px 2px rgba(0, 0, 0, 0.3));\n",
              "      fill: #FFFFFF;\n",
              "    }\n",
              "  </style>\n",
              "\n",
              "      <script>\n",
              "        const buttonEl =\n",
              "          document.querySelector('#df-83455701-ab12-4531-a756-8d19026ae670 button.colab-df-convert');\n",
              "        buttonEl.style.display =\n",
              "          google.colab.kernel.accessAllowed ? 'block' : 'none';\n",
              "\n",
              "        async function convertToInteractive(key) {\n",
              "          const element = document.querySelector('#df-83455701-ab12-4531-a756-8d19026ae670');\n",
              "          const dataTable =\n",
              "            await google.colab.kernel.invokeFunction('convertToInteractive',\n",
              "                                                     [key], {});\n",
              "          if (!dataTable) return;\n",
              "\n",
              "          const docLinkHtml = 'Like what you see? Visit the ' +\n",
              "            '<a target=\"_blank\" href=https://colab.research.google.com/notebooks/data_table.ipynb>data table notebook</a>'\n",
              "            + ' to learn more about interactive tables.';\n",
              "          element.innerHTML = '';\n",
              "          dataTable['output_type'] = 'display_data';\n",
              "          await google.colab.output.renderOutput(dataTable, element);\n",
              "          const docLink = document.createElement('div');\n",
              "          docLink.innerHTML = docLinkHtml;\n",
              "          element.appendChild(docLink);\n",
              "        }\n",
              "      </script>\n",
              "    </div>\n",
              "  </div>\n",
              "  "
            ]
          },
          "metadata": {},
          "execution_count": 33
        }
      ]
    },
    {
      "cell_type": "code",
      "source": [
        "dfresult=dfresult.sort_values(by='X_test')"
      ],
      "metadata": {
        "id": "t5XBpR78wi-U"
      },
      "execution_count": null,
      "outputs": []
    },
    {
      "cell_type": "code",
      "source": [
        "dfresult"
      ],
      "metadata": {
        "colab": {
          "base_uri": "https://localhost:8080/",
          "height": 424
        },
        "id": "AdnhfHXiw52S",
        "outputId": "6a3bede3-44e5-4cbd-e404-e8566fdb8cfc"
      },
      "execution_count": null,
      "outputs": [
        {
          "output_type": "execute_result",
          "data": {
            "text/plain": [
              "     X_test  y_test    y_pred\n",
              "72      6.0   2.900  2.805207\n",
              "104    10.0   2.879  2.802555\n",
              "145    15.0   2.843  2.798929\n",
              "146    18.0   2.775  2.796591\n",
              "75     38.0   2.761  2.778041\n",
              "..      ...     ...       ...\n",
              "48    755.0   2.360  2.410690\n",
              "149   767.0   2.357  2.417785\n",
              "15    768.0   2.356  2.418395\n",
              "120   770.0   2.356  2.419624\n",
              "137   773.0   2.355  2.421487\n",
              "\n",
              "[155 rows x 3 columns]"
            ],
            "text/html": [
              "\n",
              "  <div id=\"df-53064cca-6be5-4af9-a49d-318e23dae42e\">\n",
              "    <div class=\"colab-df-container\">\n",
              "      <div>\n",
              "<style scoped>\n",
              "    .dataframe tbody tr th:only-of-type {\n",
              "        vertical-align: middle;\n",
              "    }\n",
              "\n",
              "    .dataframe tbody tr th {\n",
              "        vertical-align: top;\n",
              "    }\n",
              "\n",
              "    .dataframe thead th {\n",
              "        text-align: right;\n",
              "    }\n",
              "</style>\n",
              "<table border=\"1\" class=\"dataframe\">\n",
              "  <thead>\n",
              "    <tr style=\"text-align: right;\">\n",
              "      <th></th>\n",
              "      <th>X_test</th>\n",
              "      <th>y_test</th>\n",
              "      <th>y_pred</th>\n",
              "    </tr>\n",
              "  </thead>\n",
              "  <tbody>\n",
              "    <tr>\n",
              "      <th>72</th>\n",
              "      <td>6.0</td>\n",
              "      <td>2.900</td>\n",
              "      <td>2.805207</td>\n",
              "    </tr>\n",
              "    <tr>\n",
              "      <th>104</th>\n",
              "      <td>10.0</td>\n",
              "      <td>2.879</td>\n",
              "      <td>2.802555</td>\n",
              "    </tr>\n",
              "    <tr>\n",
              "      <th>145</th>\n",
              "      <td>15.0</td>\n",
              "      <td>2.843</td>\n",
              "      <td>2.798929</td>\n",
              "    </tr>\n",
              "    <tr>\n",
              "      <th>146</th>\n",
              "      <td>18.0</td>\n",
              "      <td>2.775</td>\n",
              "      <td>2.796591</td>\n",
              "    </tr>\n",
              "    <tr>\n",
              "      <th>75</th>\n",
              "      <td>38.0</td>\n",
              "      <td>2.761</td>\n",
              "      <td>2.778041</td>\n",
              "    </tr>\n",
              "    <tr>\n",
              "      <th>...</th>\n",
              "      <td>...</td>\n",
              "      <td>...</td>\n",
              "      <td>...</td>\n",
              "    </tr>\n",
              "    <tr>\n",
              "      <th>48</th>\n",
              "      <td>755.0</td>\n",
              "      <td>2.360</td>\n",
              "      <td>2.410690</td>\n",
              "    </tr>\n",
              "    <tr>\n",
              "      <th>149</th>\n",
              "      <td>767.0</td>\n",
              "      <td>2.357</td>\n",
              "      <td>2.417785</td>\n",
              "    </tr>\n",
              "    <tr>\n",
              "      <th>15</th>\n",
              "      <td>768.0</td>\n",
              "      <td>2.356</td>\n",
              "      <td>2.418395</td>\n",
              "    </tr>\n",
              "    <tr>\n",
              "      <th>120</th>\n",
              "      <td>770.0</td>\n",
              "      <td>2.356</td>\n",
              "      <td>2.419624</td>\n",
              "    </tr>\n",
              "    <tr>\n",
              "      <th>137</th>\n",
              "      <td>773.0</td>\n",
              "      <td>2.355</td>\n",
              "      <td>2.421487</td>\n",
              "    </tr>\n",
              "  </tbody>\n",
              "</table>\n",
              "<p>155 rows × 3 columns</p>\n",
              "</div>\n",
              "      <button class=\"colab-df-convert\" onclick=\"convertToInteractive('df-53064cca-6be5-4af9-a49d-318e23dae42e')\"\n",
              "              title=\"Convert this dataframe to an interactive table.\"\n",
              "              style=\"display:none;\">\n",
              "        \n",
              "  <svg xmlns=\"http://www.w3.org/2000/svg\" height=\"24px\"viewBox=\"0 0 24 24\"\n",
              "       width=\"24px\">\n",
              "    <path d=\"M0 0h24v24H0V0z\" fill=\"none\"/>\n",
              "    <path d=\"M18.56 5.44l.94 2.06.94-2.06 2.06-.94-2.06-.94-.94-2.06-.94 2.06-2.06.94zm-11 1L8.5 8.5l.94-2.06 2.06-.94-2.06-.94L8.5 2.5l-.94 2.06-2.06.94zm10 10l.94 2.06.94-2.06 2.06-.94-2.06-.94-.94-2.06-.94 2.06-2.06.94z\"/><path d=\"M17.41 7.96l-1.37-1.37c-.4-.4-.92-.59-1.43-.59-.52 0-1.04.2-1.43.59L10.3 9.45l-7.72 7.72c-.78.78-.78 2.05 0 2.83L4 21.41c.39.39.9.59 1.41.59.51 0 1.02-.2 1.41-.59l7.78-7.78 2.81-2.81c.8-.78.8-2.07 0-2.86zM5.41 20L4 18.59l7.72-7.72 1.47 1.35L5.41 20z\"/>\n",
              "  </svg>\n",
              "      </button>\n",
              "      \n",
              "  <style>\n",
              "    .colab-df-container {\n",
              "      display:flex;\n",
              "      flex-wrap:wrap;\n",
              "      gap: 12px;\n",
              "    }\n",
              "\n",
              "    .colab-df-convert {\n",
              "      background-color: #E8F0FE;\n",
              "      border: none;\n",
              "      border-radius: 50%;\n",
              "      cursor: pointer;\n",
              "      display: none;\n",
              "      fill: #1967D2;\n",
              "      height: 32px;\n",
              "      padding: 0 0 0 0;\n",
              "      width: 32px;\n",
              "    }\n",
              "\n",
              "    .colab-df-convert:hover {\n",
              "      background-color: #E2EBFA;\n",
              "      box-shadow: 0px 1px 2px rgba(60, 64, 67, 0.3), 0px 1px 3px 1px rgba(60, 64, 67, 0.15);\n",
              "      fill: #174EA6;\n",
              "    }\n",
              "\n",
              "    [theme=dark] .colab-df-convert {\n",
              "      background-color: #3B4455;\n",
              "      fill: #D2E3FC;\n",
              "    }\n",
              "\n",
              "    [theme=dark] .colab-df-convert:hover {\n",
              "      background-color: #434B5C;\n",
              "      box-shadow: 0px 1px 3px 1px rgba(0, 0, 0, 0.15);\n",
              "      filter: drop-shadow(0px 1px 2px rgba(0, 0, 0, 0.3));\n",
              "      fill: #FFFFFF;\n",
              "    }\n",
              "  </style>\n",
              "\n",
              "      <script>\n",
              "        const buttonEl =\n",
              "          document.querySelector('#df-53064cca-6be5-4af9-a49d-318e23dae42e button.colab-df-convert');\n",
              "        buttonEl.style.display =\n",
              "          google.colab.kernel.accessAllowed ? 'block' : 'none';\n",
              "\n",
              "        async function convertToInteractive(key) {\n",
              "          const element = document.querySelector('#df-53064cca-6be5-4af9-a49d-318e23dae42e');\n",
              "          const dataTable =\n",
              "            await google.colab.kernel.invokeFunction('convertToInteractive',\n",
              "                                                     [key], {});\n",
              "          if (!dataTable) return;\n",
              "\n",
              "          const docLinkHtml = 'Like what you see? Visit the ' +\n",
              "            '<a target=\"_blank\" href=https://colab.research.google.com/notebooks/data_table.ipynb>data table notebook</a>'\n",
              "            + ' to learn more about interactive tables.';\n",
              "          element.innerHTML = '';\n",
              "          dataTable['output_type'] = 'display_data';\n",
              "          await google.colab.output.renderOutput(dataTable, element);\n",
              "          const docLink = document.createElement('div');\n",
              "          docLink.innerHTML = docLinkHtml;\n",
              "          element.appendChild(docLink);\n",
              "        }\n",
              "      </script>\n",
              "    </div>\n",
              "  </div>\n",
              "  "
            ]
          },
          "metadata": {},
          "execution_count": 35
        }
      ]
    },
    {
      "cell_type": "code",
      "source": [
        "plt.title('Support Vector Regressor')\n",
        "plt.plot(dfresult.X_test,dfresult.y_pred)\n",
        "plt.plot(dfresult.X_test,dfresult.y_test,color='red')\n",
        "plt.xlabel('Cycle index')\n",
        "plt.ylabel('Charge Capacity (Ah)')\n",
        "plt.legend(['Predicted','Actual']);"
      ],
      "metadata": {
        "colab": {
          "base_uri": "https://localhost:8080/",
          "height": 295
        },
        "id": "2_bwStNAw8Id",
        "outputId": "69767805-e45f-4e58-bbe5-72065908a1e3"
      },
      "execution_count": null,
      "outputs": [
        {
          "output_type": "display_data",
          "data": {
            "text/plain": [
              "<Figure size 432x288 with 1 Axes>"
            ],
            "image/png": "[encoded data removed]"
          },
          "metadata": {
            "needs_background": "light"
          }
        }
      ]
    },
    {
      "cell_type": "code",
      "source": [
        "Xval=Xval.reshape(-1,1)"
      ],
      "metadata": {
        "id": "ZNYDpyyhxrFt"
      },
      "execution_count": null,
      "outputs": []
    },
    {
      "cell_type": "code",
      "source": [
        "yvprd=regressor.predict(Xval)\n",
        "yvprd"
      ],
      "metadata": {
        "id": "0tN3ZT_u9kJP",
        "colab": {
          "base_uri": "https://localhost:8080/"
        },
        "outputId": "cadc7d92-dbd9-435e-d739-86203fb6c78b"
      },
      "execution_count": null,
      "outputs": [
        {
          "output_type": "execute_result",
          "data": {
            "text/plain": [
              "array([2.80820568, 2.80763421, 2.80704853, 2.80583475, 2.80520672,\n",
              "       2.80456466, 2.80390862, 2.80323865, 2.8025548 , 2.80185712,\n",
              "       2.80114567, 2.8004205 , 2.79968169, 2.79892927, 2.79816333,\n",
              "       2.79738392, 2.79659111, 2.79578498, 2.79496558, 2.794133  ,\n",
              "       2.79328731, 2.79242858, 2.7915569 , 2.79067233, 2.78977497,\n",
              "       2.7888649 , 2.7879422 , 2.78700696, 2.78605927, 2.78509922,\n",
              "       2.78412689, 2.7831424 , 2.78214582, 2.78113726, 2.78011682,\n",
              "       2.77908459, 2.77804069, 2.7769852 , 2.77591825, 2.77483993,\n",
              "       2.77375035, 2.77264963, 2.77153787, 2.77041519, 2.7692817 ,\n",
              "       2.76813752, 2.76698277, 2.76581755, 2.76464201, 2.76345625,\n",
              "       2.76226039, 2.76105457, 2.75983891, 2.75861353, 2.75737856,\n",
              "       2.75613414, 2.75488039, 2.75361744, 2.75234542, 2.75106448,\n",
              "       2.74977474, 2.74847634, 2.74716942, 2.74585412, 2.74453057,\n",
              "       2.74319892, 2.7418593 , 2.74051186, 2.73915674, 2.73642404,\n",
              "       2.73504676, 2.73366237, 2.73227103, 2.73087288, 2.72946808,\n",
              "       2.72805678, 2.72663911, 2.72521525, 2.72378532, 2.72234949,\n",
              "       2.72090791, 2.71946073, 2.71800811, 2.71655019, 2.71508714,\n",
              "       2.7136191 , 2.71214624, 2.7106687 , 2.70918664, 2.70770022,\n",
              "       2.7062096 , 2.70471492, 2.70321636, 2.70171405, 2.70020817,\n",
              "       2.69869886, 2.69718629, 2.69567061, 2.69415198, 2.69263056,\n",
              "       2.69110649, 2.68957995, 2.68805108, 2.68652005, 2.68498701,\n",
              "       2.68345212, 2.68191553, 2.6803774 , 2.67883788, 2.67729713,\n",
              "       2.67575532, 2.67421258, 2.67266908, 2.67112497, 2.6695804 ,\n",
              "       2.66803553, 2.6664905 , 2.66494548, 2.66340062, 2.66185606,\n",
              "       2.66031195, 2.65876845, 2.65722571, 2.65568387, 2.65414308,\n",
              "       2.65260349, 2.65106525, 2.64952849, 2.64799338, 2.64646004,\n",
              "       2.64492863, 2.64339929, 2.64187215, 2.64034736, 2.63882506,\n",
              "       2.63730539, 2.63578848, 2.63427447, 2.6327635 , 2.63125571,\n",
              "       2.62975122, 2.62825016, 2.62675268, 2.6252589 , 2.62376894,\n",
              "       2.62228295, 2.62080103, 2.61932333, 2.61784996, 2.61638104,\n",
              "       2.6149167 , 2.61345707, 2.61200224, 2.61055236, 2.60910752,\n",
              "       2.60766786, 2.60623347, 2.60480447, 2.60338098, 2.6019631 ,\n",
              "       2.60055094, 2.59914461, 2.59774421, 2.59634984, 2.59496162,\n",
              "       2.59357963, 2.59220397, 2.59083475, 2.58947206, 2.588116  ,\n",
              "       2.58676664, 2.5854241 , 2.58408846, 2.58275979, 2.5814382 ,\n",
              "       2.58012377, 2.57881657, 2.57751669, 2.57622421, 2.5749392 ,\n",
              "       2.57366175, 2.57239192, 2.5711298 , 2.56987544, 2.56862892,\n",
              "       2.56739031, 2.56615967, 2.56493707, 2.56372257, 2.56251623,\n",
              "       2.56131811, 2.56012826, 2.55894675, 2.55777361, 2.55660892,\n",
              "       2.55545271, 2.55430504, 2.55316595, 2.55203548, 2.55091368,\n",
              "       2.54980059, 2.54869625, 2.5476007 , 2.54651397, 2.5454361 ,\n",
              "       2.54436712, 2.54330705, 2.54225594, 2.5412138 , 2.54018066,\n",
              "       2.53915655, 2.53814148, 2.53713548, 2.53613856, 2.53515074,\n",
              "       2.53417204, 2.53320247, 2.53224204, 2.53129076, 2.53034863,\n",
              "       2.52941567, 2.52849188, 2.52757726, 2.52667181, 2.52577553,\n",
              "       2.52488842, 2.52401048, 2.5231417 , 2.52228207, 2.52143158,\n",
              "       2.52059023, 2.519758  , 2.51893488, 2.51812086, 2.51731591,\n",
              "       2.51652001, 2.51573316, 2.51495532, 2.51418648, 2.5134266 ,\n",
              "       2.51267567, 2.51193366, 2.51120053, 2.51047626, 2.50976082,\n",
              "       2.50905417, 2.50835627, 2.5076671 , 2.50698661, 2.50631476,\n",
              "       2.50565152, 2.50499684, 2.50435068, 2.503713  , 2.50185035,\n",
              "       2.5012461 , 2.50065009, 2.49948257, 2.49891095, 2.49834736,\n",
              "       2.49779173, 2.49724401, 2.49670413, 2.49617205, 2.4956477 ,\n",
              "       2.49513101, 2.49462192, 2.49412038, 2.49362631, 2.49313965,\n",
              "       2.49266034, 2.49218829, 2.49172346, 2.49126576, 2.49081512,\n",
              "       2.49037148, 2.48993477, 2.4895049 , 2.4890818 , 2.48866541,\n",
              "       2.48825564, 2.48785242, 2.48745568, 2.48706533, 2.48668129,\n",
              "       2.48630349, 2.48593185, 2.48556629, 2.48520672, 2.48485307,\n",
              "       2.48450525, 2.48416319, 2.48382679, 2.48349598, 2.48317066,\n",
              "       2.48285076, 2.4825362 , 2.48222688, 2.48192271, 2.48162363,\n",
              "       2.48132953, 2.48104032, 2.48075594, 2.48047628, 2.48020125,\n",
              "       2.47993078, 2.47966477, 2.47940313, 2.47914577, 2.47889262,\n",
              "       2.47864356, 2.47839853, 2.47815742, 2.47792016, 2.47768664,\n",
              "       2.47745678, 2.47723049, 2.47700769, 2.47678827, 2.47657216,\n",
              "       2.47635925, 2.47614947, 2.47594273, 2.47573892, 2.47553797,\n",
              "       2.47533979, 2.47514428, 2.47495136, 2.47476093, 2.47457292,\n",
              "       2.47438723, 2.47420377, 2.47402246, 2.47384321, 2.47366593,\n",
              "       2.47349053, 2.47331693, 2.47314504, 2.47297478, 2.47280606,\n",
              "       2.4726388 , 2.4724729 , 2.47230829, 2.47214488, 2.47198259,\n",
              "       2.47182134, 2.47166104, 2.47150161, 2.47134297, 2.47118504,\n",
              "       2.47102773, 2.47087098, 2.47071469, 2.4705588 , 2.47040321,\n",
              "       2.47024786, 2.47009267, 2.46993756, 2.46978246, 2.46962729,\n",
              "       2.46947197, 2.46931644, 2.46916062, 2.46900443, 2.46884782,\n",
              "       2.4686907 , 2.468533  , 2.46837466, 2.46821561, 2.46805579,\n",
              "       2.46789511, 2.46773353, 2.46757096, 2.46740736, 2.46724265,\n",
              "       2.46707678, 2.46690967, 2.46674128, 2.46657153, 2.46640038,\n",
              "       2.46622776, 2.46605361, 2.46587789, 2.46570052, 2.46552147,\n",
              "       2.46534067, 2.46515807, 2.46497362, 2.46478727, 2.46459898,\n",
              "       2.46440868, 2.46421634, 2.4640219 , 2.46382532, 2.46362656,\n",
              "       2.46342557, 2.46322231, 2.46301674, 2.46280882, 2.4625985 ,\n",
              "       2.46238574, 2.46217052, 2.46195279, 2.46173252, 2.46150967,\n",
              "       2.46128422, 2.46105612, 2.46082534, 2.46059186, 2.46035565,\n",
              "       2.46011667, 2.4598749 , 2.45963032, 2.4593829 , 2.45913262,\n",
              "       2.45887944, 2.45862336, 2.45836435, 2.45810239, 2.45783746,\n",
              "       2.45756955, 2.45729863, 2.4570247 , 2.45674774, 2.45646773,\n",
              "       2.45618467, 2.45589853, 2.45560933, 2.45531703, 2.45502165,\n",
              "       2.45472316, 2.45442157, 2.45411686, 2.45380905, 2.45349811,\n",
              "       2.45318406, 2.4528669 , 2.45254661, 2.45222321, 2.4518967 ,\n",
              "       2.45156709, 2.45123437, 2.45089855, 2.45055964, 2.45021766,\n",
              "       2.4498726 , 2.44952448, 2.44917331, 2.4488191 , 2.44846187,\n",
              "       2.44810162, 2.44773839, 2.44737217, 2.44700299, 2.44663087,\n",
              "       2.44625583, 2.44587788, 2.44549705, 2.44511337, 2.44472684,\n",
              "       2.4443375 , 2.44394538, 2.44355049, 2.44315287, 2.44275254,\n",
              "       2.44234954, 2.44194388, 2.44153561, 2.44112476, 2.44071134,\n",
              "       2.44029541, 2.439877  , 2.43945613, 2.43903284, 2.43860718,\n",
              "       2.43817917, 2.43774886, 2.43731629, 2.43688149, 2.43644451,\n",
              "       2.43600539, 2.43556416, 2.43512088, 2.43467559, 2.43422833,\n",
              "       2.43377914, 2.43332808, 2.43287519, 2.43242051, 2.4319641 ,\n",
              "       2.431506  , 2.43104627, 2.43058495, 2.43012209, 2.42965774,\n",
              "       2.42919197, 2.42872481, 2.42825633, 2.42778658, 2.4273156 ,\n",
              "       2.42684347, 2.42637022, 2.42589592, 2.42542063, 2.4249444 ,\n",
              "       2.42446729, 2.42398935, 2.42351065, 2.42303125, 2.42207057,\n",
              "       2.42158941, 2.42110779, 2.4201434 , 2.41966075, 2.41917789,\n",
              "       2.41869487, 2.41821177, 2.41772863, 2.41724554, 2.41676254,\n",
              "       2.41627971, 2.41579711, 2.4153148 , 2.41483285, 2.41435133,\n",
              "       2.4138703 , 2.41338983, 2.41290998, 2.41243081, 2.41195241,\n",
              "       2.41147482, 2.41099813, 2.41052239, 2.41004767, 2.40957404,\n",
              "       2.40910157, 2.40863032, 2.40816037, 2.40769177, 2.4072246 ,\n",
              "       2.40675893, 2.40629482, 2.40583233, 2.40537154, 2.40491252,\n",
              "       2.40445533, 2.40400003, 2.4035467 , 2.40309541, 2.40264621,\n",
              "       2.40219919, 2.40175439, 2.4013119 , 2.40087178, 2.40043409,\n",
              "       2.3999989 , 2.39956627, 2.39913628, 2.39870899, 2.39828446,\n",
              "       2.39786277, 2.39744396, 2.39702811, 2.39661529, 2.39620556,\n",
              "       2.39579898, 2.39539561, 2.39499552, 2.39459877, 2.39420543,\n",
              "       2.39381555, 2.39342921, 2.39304645, 2.39266734, 2.39229195,\n",
              "       2.39192032, 2.39155253, 2.39118864, 2.39082869, 2.39047275,\n",
              "       2.39012088, 2.38977313, 2.38942957, 2.38909024, 2.38875521,\n",
              "       2.38842454, 2.38809826, 2.38777645, 2.38745915, 2.38714642,\n",
              "       2.38683831, 2.38653487, 2.38623616, 2.38594222, 2.38565311,\n",
              "       2.38536887, 2.38508956, 2.38481522, 2.38454591, 2.38428166,\n",
              "       2.38402253, 2.38376856, 2.3835198 , 2.38327629, 2.38303808,\n",
              "       2.3828052 , 2.38257771, 2.38235563, 2.38213903, 2.38192792,\n",
              "       2.38172236, 2.38152239, 2.38132803, 2.38113933, 2.38095633,\n",
              "       2.38077906, 2.38060755, 2.38044184, 2.38028197, 2.38012796,\n",
              "       2.37997985, 2.37983767, 2.37970144, 2.37957121, 2.37944699,\n",
              "       2.37932882, 2.37921672, 2.37911071, 2.37901084, 2.3789171 ,\n",
              "       2.37882954, 2.37874818, 2.37867302, 2.37860411, 2.37854145,\n",
              "       2.37848507, 2.37843499, 2.37839122, 2.37835377, 2.37832267,\n",
              "       2.37829794, 2.37827957, 2.3782676 , 2.37826202, 2.37826286,\n",
              "       2.37827011, 2.3782838 , 2.37830393, 2.37833051, 2.37836355,\n",
              "       2.37840304, 2.37844901, 2.37850144, 2.37856035, 2.37862574,\n",
              "       2.37869761, 2.37877596, 2.3788608 , 2.37895211, 2.3790499 ,\n",
              "       2.37915417, 2.37926491, 2.37938211, 2.37950579, 2.37963591,\n",
              "       2.37977249, 2.37991552, 2.38006497, 2.38022085, 2.38038315,\n",
              "       2.38055185, 2.38072694, 2.38090841, 2.38109624, 2.38129043,\n",
              "       2.38149095, 2.38169779, 2.38191093, 2.38213035, 2.38235604,\n",
              "       2.38258798, 2.38282615, 2.38307052, 2.38332107, 2.38357779,\n",
              "       2.38384064, 2.38410961, 2.38438466, 2.38466578, 2.38495294,\n",
              "       2.3852461 , 2.38554525, 2.38585035, 2.38616138, 2.3864783 ,\n",
              "       2.38680108, 2.3871297 , 2.38746411, 2.38780429, 2.38815021,\n",
              "       2.38850182, 2.3888591 , 2.38922201, 2.38959051, 2.38996457,\n",
              "       2.39034414, 2.3907292 , 2.39111969, 2.39151559, 2.39191685,\n",
              "       2.39232344, 2.3927353 , 2.3931524 , 2.3935747 , 2.39400215,\n",
              "       2.39487234, 2.39531499, 2.39576261, 2.39621517, 2.39667261,\n",
              "       2.39713489, 2.39760196, 2.39807378, 2.39855029, 2.39903145,\n",
              "       2.39951721, 2.40000752, 2.40050232, 2.40100158, 2.40150523,\n",
              "       2.40201324, 2.40252554, 2.40304208, 2.40356281, 2.40408769,\n",
              "       2.40461665, 2.40514965, 2.40568663, 2.40622753, 2.4067723 ,\n",
              "       2.4073209 , 2.40787325, 2.40842932, 2.40898903, 2.40955235,\n",
              "       2.4101192 , 2.41068954, 2.41126331, 2.41184045, 2.41242091,\n",
              "       2.41300463, 2.41359154, 2.41418161, 2.41477475, 2.41537093,\n",
              "       2.41597008, 2.41657215, 2.41717706, 2.41778478, 2.41839524,\n",
              "       2.41900837, 2.41962413, 2.42024246])"
            ]
          },
          "metadata": {},
          "execution_count": 38
        }
      ]
    },
    {
      "cell_type": "code",
      "source": [
        "mape=mean_absolute_percentage_error(yval,yvprd)\n",
        "rmse = mean_squared_error(yval,yvprd, squared=False)\n",
        "mse = mean_squared_error(yval,yvprd)\n",
        "mae=mean_absolute_error(yval,yvprd)\n",
        "print(mae,mape,rmse)\n",
        "print(mse)"
      ],
      "metadata": {
        "id": "-mydySHd9xu3",
        "colab": {
          "base_uri": "https://localhost:8080/"
        },
        "outputId": "a6d31ced-3bb0-48bd-ac2e-8a3f45fab287"
      },
      "execution_count": null,
      "outputs": [
        {
          "output_type": "stream",
          "name": "stdout",
          "text": [
            "0.025942211429751134 0.01032857501778512 0.03743195635678439\n",
            "0.001401151356696211\n"
          ]
        }
      ]
    },
    {
      "cell_type": "code",
      "source": [
        "plt.title('Support Vector Regressor Validation')\n",
        "plt.scatter(Xval,yvprd,alpha=0.5)\n",
        "plt.scatter(Xval,yval,color='red',alpha=0.5)\n",
        "plt.xlabel('Cycle index (Cell b)')\n",
        "plt.ylabel('Charge Capacity (Ah)(Cell b)')\n",
        "plt.legend(['Predicted','Actual']);"
      ],
      "metadata": {
        "id": "gKQbMzqK-KmF",
        "colab": {
          "base_uri": "https://localhost:8080/",
          "height": 295
        },
        "outputId": "1bd3f88f-a99f-4ec4-a82a-81c2902f9bc4"
      },
      "execution_count": null,
      "outputs": [
        {
          "output_type": "display_data",
          "data": {
            "text/plain": [
              "<Figure size 432x288 with 1 Axes>"
            ],
            "image/png": "[encoded data removed]"
          },
          "metadata": {
            "needs_background": "light"
          }
        }
      ]
    },
    {
      "cell_type": "code",
      "source": [
        "plt.title('Support Vector Regressor Validation')\n",
        "plt.plot(Xval,yvprd,color='orange')\n",
        "#plt.plot(dfresult.X_test,dfresult.y_pred,color='orange')\n",
        "plt.plot(X,y,color='green')\n",
        "plt.plot(Xval,yval,color='blue')\n",
        "\n",
        "plt.xlabel('Cycle index ')\n",
        "plt.ylabel('Charge Capacity (Ah)')\n",
        "plt.legend(['Predicted','Actual (cell a)','Actual (cell b)']);"
      ],
      "metadata": {
        "colab": {
          "base_uri": "https://localhost:8080/",
          "height": 295
        },
        "id": "vSB2qHNGyKE-",
        "outputId": "9858939a-bec7-4567-d722-1a1ba9e864e6"
      },
      "execution_count": null,
      "outputs": [
        {
          "output_type": "display_data",
          "data": {
            "text/plain": [
              "<Figure size 432x288 with 1 Axes>"
            ],
            "image/png": "[encoded data removed]"
          },
          "metadata": {
            "needs_background": "light"
          }
        }
      ]
    },
    {
      "cell_type": "code",
      "source": [
        "from sklearn.tree import DecisionTreeRegressor\n",
        "reg2 = DecisionTreeRegressor()\n",
        "reg2.fit(X_train, y_train)"
      ],
      "metadata": {
        "colab": {
          "base_uri": "https://localhost:8080/"
        },
        "id": "6kNuxHqeY3wo",
        "outputId": "85e88389-f0d1-4bd4-af7d-dbf6fd32f927"
      },
      "execution_count": null,
      "outputs": [
        {
          "output_type": "execute_result",
          "data": {
            "text/plain": [
              "DecisionTreeRegressor()"
            ]
          },
          "metadata": {},
          "execution_count": 42
        }
      ]
    },
    {
      "cell_type": "code",
      "source": [
        "y_pred2=reg2.predict(X_test)"
      ],
      "metadata": {
        "id": "wtRvtY4pah_A"
      },
      "execution_count": null,
      "outputs": []
    },
    {
      "cell_type": "code",
      "source": [
        "mape=mean_absolute_percentage_error(y_test,y_pred2)\n",
        "rmse = mean_squared_error(y_test,y_pred2, squared=False)\n",
        "mse = mean_squared_error(y_test,y_pred2)\n",
        "mae=mean_absolute_error(y_test,y_pred2)\n",
        "print(mae,mape,rmse)\n",
        "print(mse)"
      ],
      "metadata": {
        "colab": {
          "base_uri": "https://localhost:8080/"
        },
        "id": "7hiCti3EakdZ",
        "outputId": "31d25b00-b046-4fb3-a997-ddb0a80f8103"
      },
      "execution_count": null,
      "outputs": [
        {
          "output_type": "stream",
          "name": "stdout",
          "text": [
            "0.004270967741935489 0.001668751041638712 0.012742106981287714\n",
            "0.0001623612903225811\n"
          ]
        }
      ]
    },
    {
      "cell_type": "code",
      "source": [
        "plt.title('Decision tree Regressor')\n",
        "plt.scatter(X_test,y_pred2,alpha=0.5)\n",
        "plt.scatter(X_test,y_test,color='red',alpha=0.5)\n",
        "plt.xlabel('Cycle index')\n",
        "plt.ylabel('Charge Capacity (Ah)')\n",
        "plt.legend(['Predicted','Actual']);"
      ],
      "metadata": {
        "colab": {
          "base_uri": "https://localhost:8080/",
          "height": 295
        },
        "id": "bsrMTUdibZry",
        "outputId": "42d63553-4532-45e7-d3b4-8045a1429477"
      },
      "execution_count": null,
      "outputs": [
        {
          "output_type": "display_data",
          "data": {
            "text/plain": [
              "<Figure size 432x288 with 1 Axes>"
            ],
            "image/png": "[encoded data removed]"
          },
          "metadata": {
            "needs_background": "light"
          }
        }
      ]
    },
    {
      "cell_type": "code",
      "source": [
        "yvprd=reg2.predict(Xval)\n",
        "yvprd"
      ],
      "metadata": {
        "id": "aW7qKsg9-0sW",
        "colab": {
          "base_uri": "https://localhost:8080/"
        },
        "outputId": "7390bc16-b81f-410f-8233-36b20da96416"
      },
      "execution_count": null,
      "outputs": [
        {
          "output_type": "execute_result",
          "data": {
            "text/plain": [
              "array([2.856, 2.53 , 2.965, 2.906, 2.906, 2.891, 2.884, 2.876, 2.876,\n",
              "       2.862, 2.857, 2.853, 2.848, 2.848, 2.837, 2.837, 2.837, 2.826,\n",
              "       2.825, 2.82 , 2.818, 2.812, 2.812, 2.807, 2.807, 2.78 , 2.805,\n",
              "       2.797, 2.795, 2.795, 2.791, 2.785, 2.763, 2.761, 2.768, 2.768,\n",
              "       2.768, 2.752, 2.752, 2.748, 2.744, 2.742, 2.738, 2.736, 2.733,\n",
              "       2.73 , 2.729, 2.726, 2.724, 2.722, 2.719, 2.717, 2.715, 2.715,\n",
              "       2.711, 2.709, 2.707, 2.706, 2.706, 2.702, 2.701, 2.701, 2.698,\n",
              "       2.697, 2.694, 2.694, 2.692, 2.69 , 2.689, 2.686, 2.686, 2.683,\n",
              "       2.683, 2.68 , 2.679, 2.679, 2.677, 2.677, 2.674, 2.673, 2.671,\n",
              "       2.671, 2.669, 2.669, 2.666, 2.666, 2.666, 2.663, 2.663, 2.662,\n",
              "       2.66 , 2.66 , 2.658, 2.657, 2.657, 2.655, 2.655, 2.653, 2.653,\n",
              "       2.651, 2.651, 2.649, 2.648, 2.647, 2.647, 2.646, 2.646, 2.644,\n",
              "       2.644, 2.642, 2.641, 2.64 , 2.64 , 2.64 , 2.637, 2.637, 2.636,\n",
              "       2.635, 2.634, 2.633, 2.632, 2.631, 2.63 , 2.629, 2.629, 2.627,\n",
              "       2.627, 2.626, 2.625, 2.625, 2.624, 2.623, 2.622, 2.621, 2.621,\n",
              "       2.62 , 2.62 , 2.618, 2.618, 2.617, 2.617, 2.634, 2.617, 2.615,\n",
              "       2.615, 2.614, 2.622, 2.622, 2.612, 2.612, 2.612, 2.611, 2.61 ,\n",
              "       2.61 , 2.609, 2.608, 2.607, 2.607, 2.606, 2.605, 2.605, 2.605,\n",
              "       2.603, 2.602, 2.601, 2.601, 2.491, 2.491, 2.541, 2.55 , 2.553,\n",
              "       2.554, 2.555, 2.558, 2.561, 2.562, 2.564, 2.567, 2.569, 2.569,\n",
              "       2.573, 2.575, 2.575, 2.578, 2.579, 2.581, 2.582, 2.582, 2.579,\n",
              "       2.581, 2.581, 2.581, 2.583, 2.586, 2.581, 2.582, 2.581, 2.584,\n",
              "       2.58 , 2.58 , 2.592, 2.586, 2.585, 2.582, 2.581, 2.583, 2.581,\n",
              "       2.572, 2.572, 2.584, 2.584, 2.53 , 2.536, 2.539, 2.539, 2.542,\n",
              "       2.542, 2.545, 2.546, 2.546, 2.547, 2.547, 2.55 , 2.55 , 2.547,\n",
              "       2.547, 2.551, 2.551, 2.552, 2.551, 2.553, 2.555, 2.56 , 2.559,\n",
              "       2.559, 2.559, 2.563, 2.563, 2.549, 2.549, 2.549, 2.549, 2.565,\n",
              "       2.549, 2.548, 2.548, 2.548, 2.566, 2.548, 2.547, 2.547, 2.547,\n",
              "       2.57 , 2.569, 2.524, 2.524, 2.522, 2.522, 2.51 , 2.51 , 2.513,\n",
              "       2.509, 2.509, 2.514, 2.515, 2.515, 2.518, 2.519, 2.519, 2.521,\n",
              "       2.521, 2.524, 2.524, 2.528, 2.528, 2.527, 2.528, 2.528, 2.54 ,\n",
              "       2.529, 2.529, 2.529, 2.532, 2.526, 2.529, 2.529, 2.534, 2.53 ,\n",
              "       2.53 , 2.534, 2.528, 2.537, 2.537, 2.539, 2.529, 2.528, 2.527,\n",
              "       2.534, 2.523, 2.523, 2.531, 2.531, 2.533, 2.533, 2.522, 2.522,\n",
              "       2.529, 2.528, 2.535, 2.535, 2.521, 2.521, 2.525, 2.524, 2.524,\n",
              "       2.527, 2.527, 2.517, 2.521, 2.521, 2.516, 2.523, 2.524, 2.524,\n",
              "       2.514, 2.517, 2.517, 2.517, 2.518, 2.519, 2.519, 2.523, 2.529,\n",
              "       2.519, 2.51 , 2.51 , 2.51 , 2.509, 2.509, 2.509, 2.521, 2.526,\n",
              "       2.508, 2.508, 2.508, 2.507, 2.505, 2.506, 2.506, 2.505, 2.513,\n",
              "       2.513, 2.522, 2.517, 2.51 , 2.51 , 2.501, 2.501, 2.501, 2.512,\n",
              "       2.499, 2.507, 2.508, 2.508, 2.516, 2.516, 2.498, 2.511, 2.512,\n",
              "       2.512, 2.507, 2.507, 2.502, 2.495, 2.509, 2.493, 2.508, 2.493,\n",
              "       2.505, 2.5  , 2.507, 2.499, 2.512, 2.512, 2.494, 2.494, 2.516,\n",
              "       2.512, 2.512, 2.49 , 2.494, 2.489, 2.486, 2.484, 2.484, 2.483,\n",
              "       2.482, 2.48 , 2.482, 2.488, 2.488, 2.483, 2.482, 2.479, 2.48 ,\n",
              "       2.479, 2.48 , 2.487, 2.486, 2.484, 2.481, 2.486, 2.486, 2.485,\n",
              "       2.487, 2.475, 2.491, 2.487, 2.492, 2.492, 2.492, 2.488, 2.491,\n",
              "       2.487, 2.487, 2.485, 2.477, 2.481, 2.482, 2.48 , 2.485, 2.483,\n",
              "       2.483, 2.48 , 2.482, 2.481, 2.481, 2.475, 2.484, 2.468, 2.468,\n",
              "       2.467, 2.467, 2.467, 2.477, 2.479, 2.48 , 2.472, 2.478, 2.477,\n",
              "       2.475, 2.475, 2.471, 2.471, 2.463, 2.463, 2.477, 2.478, 2.48 ,\n",
              "       2.469, 2.461, 2.461, 2.478, 2.476, 2.476, 2.475, 2.475, 2.472,\n",
              "       2.473, 2.475, 2.475, 2.475, 2.471, 2.471, 2.457, 2.457, 2.457,\n",
              "       2.471, 2.471, 2.456, 2.456, 2.456, 2.463, 2.463, 2.466, 2.462,\n",
              "       2.461, 2.461, 2.456, 2.465, 2.465, 2.468, 2.469, 2.469, 2.455,\n",
              "       2.458, 2.452, 2.455, 2.457, 2.457, 2.452, 2.452, 2.448, 2.462,\n",
              "       2.455, 2.447, 2.447, 2.447, 2.446, 2.459, 2.456, 2.46 , 2.463,\n",
              "       2.463, 2.435, 2.435, 2.459, 2.457, 2.457, 2.432, 2.432, 2.433,\n",
              "       2.433, 2.433, 2.434, 2.434, 2.435, 2.435, 2.436, 2.436, 2.436,\n",
              "       2.436, 2.436, 2.436, 2.437, 2.437, 2.437, 2.437, 2.437, 2.436,\n",
              "       2.436, 2.436, 2.436, 2.436, 2.435, 2.435, 2.435, 2.435, 2.434,\n",
              "       2.434, 2.434, 2.433, 2.433, 2.432, 2.432, 2.432, 2.433, 2.432,\n",
              "       2.432, 2.431, 2.431, 2.431, 2.43 , 2.43 , 2.43 , 2.429, 2.429,\n",
              "       2.43 , 2.429, 2.429, 2.428, 2.428, 2.428, 2.428, 2.427, 2.427,\n",
              "       2.426, 2.426, 2.425, 2.425, 2.425, 2.425, 2.424, 2.424, 2.424,\n",
              "       2.423, 2.423, 2.422, 2.422, 2.422, 2.422, 2.421, 2.421, 2.421,\n",
              "       2.42 , 2.42 , 2.419, 2.419, 2.419, 2.419, 2.418, 2.417, 2.418,\n",
              "       2.418, 2.417, 2.416, 2.416, 2.416, 2.416, 2.416, 2.415, 2.415,\n",
              "       2.415, 2.414, 2.414, 2.414, 2.414, 2.413, 2.413, 2.413, 2.412,\n",
              "       2.412, 2.412, 2.412, 2.411, 2.411, 2.41 , 2.411, 2.41 , 2.41 ,\n",
              "       2.41 , 2.396, 2.389, 2.389, 2.39 , 2.39 , 2.39 , 2.391, 2.391,\n",
              "       2.39 , 2.39 , 2.39 , 2.39 , 2.39 , 2.406, 2.408, 2.408, 2.396,\n",
              "       2.278, 2.284, 2.284, 2.359, 2.357, 2.352, 2.347, 2.35 , 2.35 ,\n",
              "       2.35 , 2.351, 2.35 , 2.35 , 2.35 , 2.353, 2.353, 2.352, 2.352,\n",
              "       2.354, 2.355, 2.356, 2.358, 2.358, 2.36 , 2.361, 2.361, 2.363,\n",
              "       2.364, 2.365, 2.365, 2.365, 2.367, 2.367, 2.368, 2.368, 2.368,\n",
              "       2.368, 2.369, 2.369, 2.369, 2.369, 2.369, 2.369, 2.369, 2.369,\n",
              "       2.369, 2.37 , 2.369, 2.369, 2.369, 2.37 , 2.369, 2.369, 2.369,\n",
              "       2.369, 2.369, 2.369, 2.369, 2.369, 2.369, 2.368, 2.368, 2.368,\n",
              "       2.368, 2.368, 2.367, 2.367, 2.367, 2.367, 2.367, 2.366, 2.366,\n",
              "       2.366, 2.366, 2.366, 2.366, 2.365, 2.365, 2.365, 2.365, 2.364,\n",
              "       2.364, 2.364, 2.364, 2.364, 2.363, 2.363, 2.363, 2.363, 2.363,\n",
              "       2.362, 2.362, 2.361, 2.361, 2.361, 2.36 , 2.36 , 2.36 , 2.36 ,\n",
              "       2.36 , 2.359, 2.359, 2.359, 2.359, 2.358, 2.358, 2.358, 2.358,\n",
              "       2.357, 2.357, 2.357, 2.356, 2.356, 2.356, 2.356])"
            ]
          },
          "metadata": {},
          "execution_count": 46
        }
      ]
    },
    {
      "cell_type": "code",
      "source": [
        "mape=mean_absolute_percentage_error(yval,yvprd)\n",
        "rmse = mean_squared_error(yval,yvprd, squared=False)\n",
        "mse = mean_squared_error(yval,yvprd)\n",
        "mae=mean_absolute_error(yval,yvprd)\n",
        "print(mae,mape,rmse)\n",
        "print(mse)"
      ],
      "metadata": {
        "id": "onmMpyCC-5Kc",
        "colab": {
          "base_uri": "https://localhost:8080/"
        },
        "outputId": "45a207b2-cfbc-4e33-b1a9-ba3d50791c8e"
      },
      "execution_count": null,
      "outputs": [
        {
          "output_type": "stream",
          "name": "stdout",
          "text": [
            "0.02866710353866318 0.011512177122083779 0.034055790322963075\n",
            "0.0011597968545216256\n"
          ]
        }
      ]
    },
    {
      "cell_type": "code",
      "source": [
        "plt.title('Decision tree Regressor Validation')\n",
        "plt.scatter(Xval,yvprd,alpha=0.5)\n",
        "plt.scatter(Xval,yval,color='red',alpha=0.5)\n",
        "plt.xlabel('Cycle index (Cell b)')\n",
        "plt.ylabel('Charge Capacity (Ah)(Cell b)')\n",
        "plt.legend(['Predicted','Actual']);"
      ],
      "metadata": {
        "id": "zBDZLH_i-5Ar",
        "colab": {
          "base_uri": "https://localhost:8080/",
          "height": 295
        },
        "outputId": "98ada3c3-6485-4894-9374-3e694b5b5324"
      },
      "execution_count": null,
      "outputs": [
        {
          "output_type": "display_data",
          "data": {
            "text/plain": [
              "<Figure size 432x288 with 1 Axes>"
            ],
            "image/png": "[encoded data removed]"
          },
          "metadata": {
            "needs_background": "light"
          }
        }
      ]
    },
    {
      "cell_type": "code",
      "source": [
        "dfresult=pd.DataFrame({\"X_test\":X_test.flatten(),\"y_test\":y_test.flatten(),\"y_pred\":y_pred2.flatten()})\n",
        "dfresult"
      ],
      "metadata": {
        "colab": {
          "base_uri": "https://localhost:8080/",
          "height": 424
        },
        "outputId": "edede716-ff74-4fbf-fc43-bdf1cf3b9f51",
        "id": "uWl0ayAw21ll"
      },
      "execution_count": null,
      "outputs": [
        {
          "output_type": "execute_result",
          "data": {
            "text/plain": [
              "     X_test  y_test  y_pred\n",
              "0     361.0   2.502   2.510\n",
              "1     461.0   2.479   2.463\n",
              "2      84.0   2.671   2.671\n",
              "3     332.0   2.530   2.517\n",
              "4     129.0   2.627   2.627\n",
              "..      ...     ...     ...\n",
              "150   622.0   2.414   2.414\n",
              "151   569.0   2.430   2.431\n",
              "152   294.0   2.539   2.530\n",
              "153   307.0   2.528   2.531\n",
              "154   446.0   2.475   2.468\n",
              "\n",
              "[155 rows x 3 columns]"
            ],
            "text/html": [
              "\n",
              "  <div id=\"df-bc3928da-ec28-4186-a256-d0c3a5e5511d\">\n",
              "    <div class=\"colab-df-container\">\n",
              "      <div>\n",
              "<style scoped>\n",
              "    .dataframe tbody tr th:only-of-type {\n",
              "        vertical-align: middle;\n",
              "    }\n",
              "\n",
              "    .dataframe tbody tr th {\n",
              "        vertical-align: top;\n",
              "    }\n",
              "\n",
              "    .dataframe thead th {\n",
              "        text-align: right;\n",
              "    }\n",
              "</style>\n",
              "<table border=\"1\" class=\"dataframe\">\n",
              "  <thead>\n",
              "    <tr style=\"text-align: right;\">\n",
              "      <th></th>\n",
              "      <th>X_test</th>\n",
              "      <th>y_test</th>\n",
              "      <th>y_pred</th>\n",
              "    </tr>\n",
              "  </thead>\n",
              "  <tbody>\n",
              "    <tr>\n",
              "      <th>0</th>\n",
              "      <td>361.0</td>\n",
              "      <td>2.502</td>\n",
              "      <td>2.510</td>\n",
              "    </tr>\n",
              "    <tr>\n",
              "      <th>1</th>\n",
              "      <td>461.0</td>\n",
              "      <td>2.479</td>\n",
              "      <td>2.463</td>\n",
              "    </tr>\n",
              "    <tr>\n",
              "      <th>2</th>\n",
              "      <td>84.0</td>\n",
              "      <td>2.671</td>\n",
              "      <td>2.671</td>\n",
              "    </tr>\n",
              "    <tr>\n",
              "      <th>3</th>\n",
              "      <td>332.0</td>\n",
              "      <td>2.530</td>\n",
              "      <td>2.517</td>\n",
              "    </tr>\n",
              "    <tr>\n",
              "      <th>4</th>\n",
              "      <td>129.0</td>\n",
              "      <td>2.627</td>\n",
              "      <td>2.627</td>\n",
              "    </tr>\n",
              "    <tr>\n",
              "      <th>...</th>\n",
              "      <td>...</td>\n",
              "      <td>...</td>\n",
              "      <td>...</td>\n",
              "    </tr>\n",
              "    <tr>\n",
              "      <th>150</th>\n",
              "      <td>622.0</td>\n",
              "      <td>2.414</td>\n",
              "      <td>2.414</td>\n",
              "    </tr>\n",
              "    <tr>\n",
              "      <th>151</th>\n",
              "      <td>569.0</td>\n",
              "      <td>2.430</td>\n",
              "      <td>2.431</td>\n",
              "    </tr>\n",
              "    <tr>\n",
              "      <th>152</th>\n",
              "      <td>294.0</td>\n",
              "      <td>2.539</td>\n",
              "      <td>2.530</td>\n",
              "    </tr>\n",
              "    <tr>\n",
              "      <th>153</th>\n",
              "      <td>307.0</td>\n",
              "      <td>2.528</td>\n",
              "      <td>2.531</td>\n",
              "    </tr>\n",
              "    <tr>\n",
              "      <th>154</th>\n",
              "      <td>446.0</td>\n",
              "      <td>2.475</td>\n",
              "      <td>2.468</td>\n",
              "    </tr>\n",
              "  </tbody>\n",
              "</table>\n",
              "<p>155 rows × 3 columns</p>\n",
              "</div>\n",
              "      <button class=\"colab-df-convert\" onclick=\"convertToInteractive('df-bc3928da-ec28-4186-a256-d0c3a5e5511d')\"\n",
              "              title=\"Convert this dataframe to an interactive table.\"\n",
              "              style=\"display:none;\">\n",
              "        \n",
              "  <svg xmlns=\"http://www.w3.org/2000/svg\" height=\"24px\"viewBox=\"0 0 24 24\"\n",
              "       width=\"24px\">\n",
              "    <path d=\"M0 0h24v24H0V0z\" fill=\"none\"/>\n",
              "    <path d=\"M18.56 5.44l.94 2.06.94-2.06 2.06-.94-2.06-.94-.94-2.06-.94 2.06-2.06.94zm-11 1L8.5 8.5l.94-2.06 2.06-.94-2.06-.94L8.5 2.5l-.94 2.06-2.06.94zm10 10l.94 2.06.94-2.06 2.06-.94-2.06-.94-.94-2.06-.94 2.06-2.06.94z\"/><path d=\"M17.41 7.96l-1.37-1.37c-.4-.4-.92-.59-1.43-.59-.52 0-1.04.2-1.43.59L10.3 9.45l-7.72 7.72c-.78.78-.78 2.05 0 2.83L4 21.41c.39.39.9.59 1.41.59.51 0 1.02-.2 1.41-.59l7.78-7.78 2.81-2.81c.8-.78.8-2.07 0-2.86zM5.41 20L4 18.59l7.72-7.72 1.47 1.35L5.41 20z\"/>\n",
              "  </svg>\n",
              "      </button>\n",
              "      \n",
              "  <style>\n",
              "    .colab-df-container {\n",
              "      display:flex;\n",
              "      flex-wrap:wrap;\n",
              "      gap: 12px;\n",
              "    }\n",
              "\n",
              "    .colab-df-convert {\n",
              "      background-color: #E8F0FE;\n",
              "      border: none;\n",
              "      border-radius: 50%;\n",
              "      cursor: pointer;\n",
              "      display: none;\n",
              "      fill: #1967D2;\n",
              "      height: 32px;\n",
              "      padding: 0 0 0 0;\n",
              "      width: 32px;\n",
              "    }\n",
              "\n",
              "    .colab-df-convert:hover {\n",
              "      background-color: #E2EBFA;\n",
              "      box-shadow: 0px 1px 2px rgba(60, 64, 67, 0.3), 0px 1px 3px 1px rgba(60, 64, 67, 0.15);\n",
              "      fill: #174EA6;\n",
              "    }\n",
              "\n",
              "    [theme=dark] .colab-df-convert {\n",
              "      background-color: #3B4455;\n",
              "      fill: #D2E3FC;\n",
              "    }\n",
              "\n",
              "    [theme=dark] .colab-df-convert:hover {\n",
              "      background-color: #434B5C;\n",
              "      box-shadow: 0px 1px 3px 1px rgba(0, 0, 0, 0.15);\n",
              "      filter: drop-shadow(0px 1px 2px rgba(0, 0, 0, 0.3));\n",
              "      fill: #FFFFFF;\n",
              "    }\n",
              "  </style>\n",
              "\n",
              "      <script>\n",
              "        const buttonEl =\n",
              "          document.querySelector('#df-bc3928da-ec28-4186-a256-d0c3a5e5511d button.colab-df-convert');\n",
              "        buttonEl.style.display =\n",
              "          google.colab.kernel.accessAllowed ? 'block' : 'none';\n",
              "\n",
              "        async function convertToInteractive(key) {\n",
              "          const element = document.querySelector('#df-bc3928da-ec28-4186-a256-d0c3a5e5511d');\n",
              "          const dataTable =\n",
              "            await google.colab.kernel.invokeFunction('convertToInteractive',\n",
              "                                                     [key], {});\n",
              "          if (!dataTable) return;\n",
              "\n",
              "          const docLinkHtml = 'Like what you see? Visit the ' +\n",
              "            '<a target=\"_blank\" href=https://colab.research.google.com/notebooks/data_table.ipynb>data table notebook</a>'\n",
              "            + ' to learn more about interactive tables.';\n",
              "          element.innerHTML = '';\n",
              "          dataTable['output_type'] = 'display_data';\n",
              "          await google.colab.output.renderOutput(dataTable, element);\n",
              "          const docLink = document.createElement('div');\n",
              "          docLink.innerHTML = docLinkHtml;\n",
              "          element.appendChild(docLink);\n",
              "        }\n",
              "      </script>\n",
              "    </div>\n",
              "  </div>\n",
              "  "
            ]
          },
          "metadata": {},
          "execution_count": 49
        }
      ]
    },
    {
      "cell_type": "code",
      "source": [
        "dfresult=dfresult.sort_values(by='X_test')"
      ],
      "metadata": {
        "id": "CFCbCoxV21lm"
      },
      "execution_count": null,
      "outputs": []
    },
    {
      "cell_type": "code",
      "source": [
        "plt.title('Decision tree Regressor Validation')\n",
        "plt.plot(Xval,yvprd,color='orange')\n",
        "#plt.plot(dfresult.X_test,dfresult.y_pred,color='orange')\n",
        "plt.plot(X,y,color='green')\n",
        "plt.plot(Xval,yval,color='blue')\n",
        "\n",
        "plt.xlabel('Cycle index ')\n",
        "plt.ylabel('Charge Capacity (Ah)')\n",
        "plt.legend(['Predicted','Actual (cell a)','Actual (cell b)']);"
      ],
      "metadata": {
        "colab": {
          "base_uri": "https://localhost:8080/",
          "height": 295
        },
        "id": "WqsJ1JDH2i-R",
        "outputId": "35af85a2-63b0-4c1f-9e12-9d570d16d3ca"
      },
      "execution_count": null,
      "outputs": [
        {
          "output_type": "display_data",
          "data": {
            "text/plain": [
              "<Figure size 432x288 with 1 Axes>"
            ],
            "image/png": "[encoded data removed]"
          },
          "metadata": {
            "needs_background": "light"
          }
        }
      ]
    },
    {
      "cell_type": "code",
      "source": [
        "plt.title('Decision tree Regressor Validation')\n",
        "plt.plot(Xval,yvprd,color='black',ls='--')\n",
        "#plt.plot(dfresult.X_test,dfresult.y_pred,color='orange')\n",
        "plt.plot(X,y,color='red')\n",
        "plt.plot(Xval,yval,color='blue')\n",
        "\n",
        "plt.xlabel('Cycle index ')\n",
        "plt.ylabel('Charge Capacity (Ah)')\n",
        "plt.legend(['Predicted','Actual (cell a)','Actual (cell b)']);"
      ],
      "metadata": {
        "id": "mEm5P91p2i3n",
        "colab": {
          "base_uri": "https://localhost:8080/",
          "height": 295
        },
        "outputId": "bcf5cef7-b845-42eb-efe9-8c79b7e450db"
      },
      "execution_count": null,
      "outputs": [
        {
          "output_type": "display_data",
          "data": {
            "text/plain": [
              "<Figure size 432x288 with 1 Axes>"
            ],
            "image/png": "[encoded data removed]"
          },
          "metadata": {
            "needs_background": "light"
          }
        }
      ]
    },
    {
      "cell_type": "code",
      "source": [],
      "metadata": {
        "id": "rCk5ApRCMygR"
      },
      "execution_count": null,
      "outputs": []
    },
    {
      "cell_type": "code",
      "source": [
        "from sklearn.neighbors import KNeighborsRegressor\n",
        "reg3= KNeighborsRegressor(n_neighbors=5)"
      ],
      "metadata": {
        "id": "0hWwzHz3cHS6"
      },
      "execution_count": null,
      "outputs": []
    },
    {
      "cell_type": "code",
      "source": [
        "reg3.fit(X_train, y_train)"
      ],
      "metadata": {
        "colab": {
          "base_uri": "https://localhost:8080/"
        },
        "id": "I0OkCHZGd2M6",
        "outputId": "25923c14-0b1c-40c0-e6fc-d654c6c4be3e"
      },
      "execution_count": null,
      "outputs": [
        {
          "output_type": "execute_result",
          "data": {
            "text/plain": [
              "KNeighborsRegressor()"
            ]
          },
          "metadata": {},
          "execution_count": 54
        }
      ]
    },
    {
      "cell_type": "code",
      "source": [
        "y_pred3=reg3.predict(X_test)"
      ],
      "metadata": {
        "id": "J2gQkR0Ud3ec"
      },
      "execution_count": null,
      "outputs": []
    },
    {
      "cell_type": "code",
      "source": [
        "mape=mean_absolute_percentage_error(y_test,y_pred3)\n",
        "rmse = mean_squared_error(y_test,y_pred3, squared=False)\n",
        "mse = mean_squared_error(y_test,y_pred3)\n",
        "mae=mean_absolute_error(y_test,y_pred3)\n",
        "print(mae,mape,rmse)\n",
        "print(mse)"
      ],
      "metadata": {
        "colab": {
          "base_uri": "https://localhost:8080/"
        },
        "id": "isPOVQaZd9Fy",
        "outputId": "02db258c-56b4-4456-9fa5-562e518f7342"
      },
      "execution_count": null,
      "outputs": [
        {
          "output_type": "stream",
          "name": "stdout",
          "text": [
            "0.003935483870967778 0.0015391202131438562 0.009869915187399114\n",
            "9.741522580645169e-05\n"
          ]
        }
      ]
    },
    {
      "cell_type": "code",
      "source": [
        "plt.title('KNN Regressor')\n",
        "plt.scatter(X_test,y_pred3,alpha=0.5)\n",
        "plt.scatter(X_test,y_test,color='red',alpha=0.5)\n",
        "plt.xlabel('Cycle index')\n",
        "plt.ylabel('Charge Capacity (Ah)')\n",
        "plt.legend(['Predicted','Actual']);"
      ],
      "metadata": {
        "colab": {
          "base_uri": "https://localhost:8080/",
          "height": 295
        },
        "id": "uRSO0eVXeDwQ",
        "outputId": "05022b2a-7c26-4e83-d7da-5328270e6380"
      },
      "execution_count": null,
      "outputs": [
        {
          "output_type": "display_data",
          "data": {
            "text/plain": [
              "<Figure size 432x288 with 1 Axes>"
            ],
            "image/png": "[encoded data removed]"
          },
          "metadata": {
            "needs_background": "light"
          }
        }
      ]
    },
    {
      "cell_type": "code",
      "source": [
        "yvprd=reg3.predict(Xval)\n",
        "yvprd"
      ],
      "metadata": {
        "id": "wp3xibxA_TZk",
        "colab": {
          "base_uri": "https://localhost:8080/"
        },
        "outputId": "e781aa99-4228-4f65-d3b9-753cff77129b"
      },
      "execution_count": null,
      "outputs": [
        {
          "output_type": "execute_result",
          "data": {
            "text/plain": [
              "array([[2.8296],\n",
              "       [2.8296],\n",
              "       [2.8296],\n",
              "       [2.8352],\n",
              "       [2.9044],\n",
              "       [2.9044],\n",
              "       [2.8838],\n",
              "       [2.874 ],\n",
              "       [2.8664],\n",
              "       [2.8664],\n",
              "       [2.8592],\n",
              "       [2.8514],\n",
              "       [2.8464],\n",
              "       [2.8464],\n",
              "       [2.8402],\n",
              "       [2.8346],\n",
              "       [2.829 ],\n",
              "       [2.829 ],\n",
              "       [2.8252],\n",
              "       [2.8202],\n",
              "       [2.8174],\n",
              "       [2.8138],\n",
              "       [2.8112],\n",
              "       [2.8036],\n",
              "       [2.8022],\n",
              "       [2.7992],\n",
              "       [2.7968],\n",
              "       [2.7944],\n",
              "       [2.7966],\n",
              "       [2.7926],\n",
              "       [2.7858],\n",
              "       [2.779 ],\n",
              "       [2.7736],\n",
              "       [2.769 ],\n",
              "       [2.769 ],\n",
              "       [2.7624],\n",
              "       [2.7594],\n",
              "       [2.756 ],\n",
              "       [2.7508],\n",
              "       [2.7448],\n",
              "       [2.7448],\n",
              "       [2.7416],\n",
              "       [2.7386],\n",
              "       [2.7358],\n",
              "       [2.7332],\n",
              "       [2.7308],\n",
              "       [2.7284],\n",
              "       [2.7262],\n",
              "       [2.724 ],\n",
              "       [2.7216],\n",
              "       [2.7194],\n",
              "       [2.7194],\n",
              "       [2.7168],\n",
              "       [2.7118],\n",
              "       [2.7096],\n",
              "       [2.7096],\n",
              "       [2.707 ],\n",
              "       [2.707 ],\n",
              "       [2.705 ],\n",
              "       [2.7028],\n",
              "       [2.7008],\n",
              "       [2.6984],\n",
              "       [2.6984],\n",
              "       [2.6964],\n",
              "       [2.6942],\n",
              "       [2.6942],\n",
              "       [2.6924],\n",
              "       [2.6904],\n",
              "       [2.6888],\n",
              "       [2.687 ],\n",
              "       [2.685 ],\n",
              "       [2.683 ],\n",
              "       [2.6814],\n",
              "       [2.6796],\n",
              "       [2.6796],\n",
              "       [2.6778],\n",
              "       [2.6778],\n",
              "       [2.6748],\n",
              "       [2.6748],\n",
              "       [2.6728],\n",
              "       [2.6728],\n",
              "       [2.6706],\n",
              "       [2.6706],\n",
              "       [2.6684],\n",
              "       [2.6664],\n",
              "       [2.6646],\n",
              "       [2.6628],\n",
              "       [2.6628],\n",
              "       [2.6628],\n",
              "       [2.6616],\n",
              "       [2.6606],\n",
              "       [2.6594],\n",
              "       [2.6584],\n",
              "       [2.6574],\n",
              "       [2.6564],\n",
              "       [2.6554],\n",
              "       [2.6542],\n",
              "       [2.653 ],\n",
              "       [2.6518],\n",
              "       [2.6518],\n",
              "       [2.6492],\n",
              "       [2.6492],\n",
              "       [2.6484],\n",
              "       [2.6474],\n",
              "       [2.6474],\n",
              "       [2.6464],\n",
              "       [2.6452],\n",
              "       [2.644 ],\n",
              "       [2.6426],\n",
              "       [2.6414],\n",
              "       [2.6414],\n",
              "       [2.64  ],\n",
              "       [2.64  ],\n",
              "       [2.6388],\n",
              "       [2.6376],\n",
              "       [2.6364],\n",
              "       [2.635 ],\n",
              "       [2.635 ],\n",
              "       [2.634 ],\n",
              "       [2.633 ],\n",
              "       [2.632 ],\n",
              "       [2.631 ],\n",
              "       [2.6298],\n",
              "       [2.6298],\n",
              "       [2.6286],\n",
              "       [2.6274],\n",
              "       [2.6264],\n",
              "       [2.6254],\n",
              "       [2.6254],\n",
              "       [2.6246],\n",
              "       [2.6238],\n",
              "       [2.623 ],\n",
              "       [2.6222],\n",
              "       [2.6214],\n",
              "       [2.6214],\n",
              "       [2.6204],\n",
              "       [2.6194],\n",
              "       [2.6186],\n",
              "       [2.6212],\n",
              "       [2.6206],\n",
              "       [2.6206],\n",
              "       [2.62  ],\n",
              "       [2.6194],\n",
              "       [2.6194],\n",
              "       [2.6204],\n",
              "       [2.616 ],\n",
              "       [2.616 ],\n",
              "       [2.615 ],\n",
              "       [2.6142],\n",
              "       [2.6134],\n",
              "       [2.611 ],\n",
              "       [2.611 ],\n",
              "       [2.6104],\n",
              "       [2.6096],\n",
              "       [2.6088],\n",
              "       [2.6088],\n",
              "       [2.608 ],\n",
              "       [2.607 ],\n",
              "       [2.6062],\n",
              "       [2.6048],\n",
              "       [2.6048],\n",
              "       [2.604 ],\n",
              "       [2.6032],\n",
              "       [2.6032],\n",
              "       [2.5804],\n",
              "       [2.5676],\n",
              "       [2.557 ],\n",
              "       [2.5472],\n",
              "       [2.5378],\n",
              "       [2.5378],\n",
              "       [2.5506],\n",
              "       [2.554 ],\n",
              "       [2.5562],\n",
              "       [2.558 ],\n",
              "       [2.56  ],\n",
              "       [2.5624],\n",
              "       [2.5646],\n",
              "       [2.5646],\n",
              "       [2.567 ],\n",
              "       [2.5696],\n",
              "       [2.5718],\n",
              "       [2.574 ],\n",
              "       [2.576 ],\n",
              "       [2.5776],\n",
              "       [2.579 ],\n",
              "       [2.5804],\n",
              "       [2.5806],\n",
              "       [2.581 ],\n",
              "       [2.581 ],\n",
              "       [2.5808],\n",
              "       [2.581 ],\n",
              "       [2.5824],\n",
              "       [2.5824],\n",
              "       [2.5826],\n",
              "       [2.5826],\n",
              "       [2.5828],\n",
              "       [2.5816],\n",
              "       [2.5838],\n",
              "       [2.5838],\n",
              "       [2.5846],\n",
              "       [2.5854],\n",
              "       [2.585 ],\n",
              "       [2.5852],\n",
              "       [2.5834],\n",
              "       [2.5824],\n",
              "       [2.5798],\n",
              "       [2.5778],\n",
              "       [2.5784],\n",
              "       [2.5678],\n",
              "       [2.5678],\n",
              "       [2.5522],\n",
              "       [2.5522],\n",
              "       [2.5462],\n",
              "       [2.5378],\n",
              "       [2.5408],\n",
              "       [2.5428],\n",
              "       [2.5442],\n",
              "       [2.5442],\n",
              "       [2.5452],\n",
              "       [2.5462],\n",
              "       [2.5472],\n",
              "       [2.548 ],\n",
              "       [2.5482],\n",
              "       [2.5482],\n",
              "       [2.549 ],\n",
              "       [2.55  ],\n",
              "       [2.5502],\n",
              "       [2.5508],\n",
              "       [2.5524],\n",
              "       [2.5542],\n",
              "       [2.5542],\n",
              "       [2.5556],\n",
              "       [2.5556],\n",
              "       [2.558 ],\n",
              "       [2.5572],\n",
              "       [2.5572],\n",
              "       [2.556 ],\n",
              "       [2.5538],\n",
              "       [2.5518],\n",
              "       [2.5518],\n",
              "       [2.5522],\n",
              "       [2.5522],\n",
              "       [2.552 ],\n",
              "       [2.552 ],\n",
              "       [2.5518],\n",
              "       [2.5552],\n",
              "       [2.5518],\n",
              "       [2.5514],\n",
              "       [2.5512],\n",
              "       [2.551 ],\n",
              "       [2.5518],\n",
              "       [2.556 ],\n",
              "       [2.556 ],\n",
              "       [2.5514],\n",
              "       [2.5464],\n",
              "       [2.539 ],\n",
              "       [2.5276],\n",
              "       [2.5156],\n",
              "       [2.5156],\n",
              "       [2.5136],\n",
              "       [2.5122],\n",
              "       [2.5122],\n",
              "       [2.5122],\n",
              "       [2.5138],\n",
              "       [2.515 ],\n",
              "       [2.515 ],\n",
              "       [2.5174],\n",
              "       [2.5188],\n",
              "       [2.5206],\n",
              "       [2.5206],\n",
              "       [2.5226],\n",
              "       [2.5226],\n",
              "       [2.5242],\n",
              "       [2.5256],\n",
              "       [2.5256],\n",
              "       [2.5294],\n",
              "       [2.5304],\n",
              "       [2.5306],\n",
              "       [2.5306],\n",
              "       [2.531 ],\n",
              "       [2.5318],\n",
              "       [2.529 ],\n",
              "       [2.529 ],\n",
              "       [2.529 ],\n",
              "       [2.53  ],\n",
              "       [2.5296],\n",
              "       [2.5296],\n",
              "       [2.531 ],\n",
              "       [2.531 ],\n",
              "       [2.5326],\n",
              "       [2.5336],\n",
              "       [2.5334],\n",
              "       [2.5322],\n",
              "       [2.532 ],\n",
              "       [2.5314],\n",
              "       [2.5314],\n",
              "       [2.5282],\n",
              "       [2.527 ],\n",
              "       [2.5276],\n",
              "       [2.5276],\n",
              "       [2.5288],\n",
              "       [2.5264],\n",
              "       [2.5262],\n",
              "       [2.5274],\n",
              "       [2.5268],\n",
              "       [2.5272],\n",
              "       [2.5272],\n",
              "       [2.5298],\n",
              "       [2.5296],\n",
              "       [2.528 ],\n",
              "       [2.5274],\n",
              "       [2.5252],\n",
              "       [2.5236],\n",
              "       [2.5236],\n",
              "       [2.5228],\n",
              "       [2.5228],\n",
              "       [2.521 ],\n",
              "       [2.521 ],\n",
              "       [2.5208],\n",
              "       [2.5202],\n",
              "       [2.5202],\n",
              "       [2.5196],\n",
              "       [2.5188],\n",
              "       [2.5188],\n",
              "       [2.519 ],\n",
              "       [2.518 ],\n",
              "       [2.517 ],\n",
              "       [2.517 ],\n",
              "       [2.5188],\n",
              "       [2.5212],\n",
              "       [2.5216],\n",
              "       [2.5216],\n",
              "       [2.52  ],\n",
              "       [2.5182],\n",
              "       [2.5182],\n",
              "       [2.5154],\n",
              "       [2.5154],\n",
              "       [2.5138],\n",
              "       [2.5152],\n",
              "       [2.5148],\n",
              "       [2.5144],\n",
              "       [2.5144],\n",
              "       [2.514 ],\n",
              "       [2.514 ],\n",
              "       [2.5108],\n",
              "       [2.5068],\n",
              "       [2.5058],\n",
              "       [2.5058],\n",
              "       [2.507 ],\n",
              "       [2.5104],\n",
              "       [2.5104],\n",
              "       [2.5126],\n",
              "       [2.5134],\n",
              "       [2.5126],\n",
              "       [2.5102],\n",
              "       [2.5102],\n",
              "       [2.5082],\n",
              "       [2.5046],\n",
              "       [2.504 ],\n",
              "       [2.5054],\n",
              "       [2.5054],\n",
              "       [2.5084],\n",
              "       [2.5084],\n",
              "       [2.5056],\n",
              "       [2.508 ],\n",
              "       [2.509 ],\n",
              "       [2.509 ],\n",
              "       [2.5088],\n",
              "       [2.506 ],\n",
              "       [2.506 ],\n",
              "       [2.5054],\n",
              "       [2.505 ],\n",
              "       [2.5012],\n",
              "       [2.5012],\n",
              "       [2.5014],\n",
              "       [2.4996],\n",
              "       [2.5016],\n",
              "       [2.4998],\n",
              "       [2.5026],\n",
              "       [2.5008],\n",
              "       [2.5046],\n",
              "       [2.5046],\n",
              "       [2.5024],\n",
              "       [2.5056],\n",
              "       [2.5066],\n",
              "       [2.5066],\n",
              "       [2.5048],\n",
              "       [2.5012],\n",
              "       [2.5012],\n",
              "       [2.5002],\n",
              "       [2.4942],\n",
              "       [2.4886],\n",
              "       [2.4874],\n",
              "       [2.4852],\n",
              "       [2.4838],\n",
              "       [2.4826],\n",
              "       [2.4822],\n",
              "       [2.483 ],\n",
              "       [2.484 ],\n",
              "       [2.4842],\n",
              "       [2.4846],\n",
              "       [2.484 ],\n",
              "       [2.4824],\n",
              "       [2.4806],\n",
              "       [2.48  ],\n",
              "       [2.481 ],\n",
              "       [2.4824],\n",
              "       [2.4832],\n",
              "       [2.4836],\n",
              "       [2.4848],\n",
              "       [2.4848],\n",
              "       [2.4844],\n",
              "       [2.4846],\n",
              "       [2.4828],\n",
              "       [2.485 ],\n",
              "       [2.485 ],\n",
              "       [2.4864],\n",
              "       [2.4874],\n",
              "       [2.4874],\n",
              "       [2.49  ],\n",
              "       [2.49  ],\n",
              "       [2.49  ],\n",
              "       [2.4876],\n",
              "       [2.4876],\n",
              "       [2.4854],\n",
              "       [2.4834],\n",
              "       [2.4824],\n",
              "       [2.481 ],\n",
              "       [2.481 ],\n",
              "       [2.4822],\n",
              "       [2.482 ],\n",
              "       [2.482 ],\n",
              "       [2.482 ],\n",
              "       [2.4822],\n",
              "       [2.4802],\n",
              "       [2.4804],\n",
              "       [2.478 ],\n",
              "       [2.478 ],\n",
              "       [2.478 ],\n",
              "       [2.475 ],\n",
              "       [2.4742],\n",
              "       [2.475 ],\n",
              "       [2.4742],\n",
              "       [2.4742],\n",
              "       [2.475 ],\n",
              "       [2.475 ],\n",
              "       [2.4772],\n",
              "       [2.4772],\n",
              "       [2.4764],\n",
              "       [2.4764],\n",
              "       [2.4746],\n",
              "       [2.4728],\n",
              "       [2.4728],\n",
              "       [2.4726],\n",
              "       [2.4728],\n",
              "       [2.4738],\n",
              "       [2.4734],\n",
              "       [2.4734],\n",
              "       [2.473 ],\n",
              "       [2.4698],\n",
              "       [2.4698],\n",
              "       [2.469 ],\n",
              "       [2.469 ],\n",
              "       [2.4702],\n",
              "       [2.4724],\n",
              "       [2.4748],\n",
              "       [2.4742],\n",
              "       [2.474 ],\n",
              "       [2.474 ],\n",
              "       [2.474 ],\n",
              "       [2.4738],\n",
              "       [2.4738],\n",
              "       [2.4706],\n",
              "       [2.467 ],\n",
              "       [2.4662],\n",
              "       [2.4624],\n",
              "       [2.4624],\n",
              "       [2.4594],\n",
              "       [2.4594],\n",
              "       [2.4606],\n",
              "       [2.4606],\n",
              "       [2.4624],\n",
              "       [2.4606],\n",
              "       [2.4616],\n",
              "       [2.4626],\n",
              "       [2.4626],\n",
              "       [2.4612],\n",
              "       [2.461 ],\n",
              "       [2.461 ],\n",
              "       [2.4638],\n",
              "       [2.4638],\n",
              "       [2.4626],\n",
              "       [2.463 ],\n",
              "       [2.4604],\n",
              "       [2.4604],\n",
              "       [2.4578],\n",
              "       [2.4554],\n",
              "       [2.4554],\n",
              "       [2.4536],\n",
              "       [2.4536],\n",
              "       [2.4542],\n",
              "       [2.4542],\n",
              "       [2.4538],\n",
              "       [2.4528],\n",
              "       [2.4518],\n",
              "       [2.4516],\n",
              "       [2.4484],\n",
              "       [2.45  ],\n",
              "       [2.4524],\n",
              "       [2.4568],\n",
              "       [2.4584],\n",
              "       [2.4584],\n",
              "       [2.4536],\n",
              "       [2.4542],\n",
              "       [2.4536],\n",
              "       [2.4536],\n",
              "       [2.4492],\n",
              "       [2.4432],\n",
              "       [2.4432],\n",
              "       [2.4428],\n",
              "       [2.4376],\n",
              "       [2.433 ],\n",
              "       [2.433 ],\n",
              "       [2.4334],\n",
              "       [2.4338],\n",
              "       [2.4342],\n",
              "       [2.4348],\n",
              "       [2.4352],\n",
              "       [2.4356],\n",
              "       [2.4358],\n",
              "       [2.436 ],\n",
              "       [2.436 ],\n",
              "       [2.4362],\n",
              "       [2.4364],\n",
              "       [2.4364],\n",
              "       [2.4366],\n",
              "       [2.4366],\n",
              "       [2.4366],\n",
              "       [2.4366],\n",
              "       [2.4366],\n",
              "       [2.4364],\n",
              "       [2.436 ],\n",
              "       [2.4356],\n",
              "       [2.4354],\n",
              "       [2.4352],\n",
              "       [2.4352],\n",
              "       [2.4348],\n",
              "       [2.4346],\n",
              "       [2.4344],\n",
              "       [2.434 ],\n",
              "       [2.434 ],\n",
              "       [2.4334],\n",
              "       [2.433 ],\n",
              "       [2.4328],\n",
              "       [2.4324],\n",
              "       [2.4322],\n",
              "       [2.4322],\n",
              "       [2.432 ],\n",
              "       [2.4318],\n",
              "       [2.4318],\n",
              "       [2.4312],\n",
              "       [2.4306],\n",
              "       [2.4306],\n",
              "       [2.4302],\n",
              "       [2.4298],\n",
              "       [2.4294],\n",
              "       [2.4294],\n",
              "       [2.429 ],\n",
              "       [2.429 ],\n",
              "       [2.4288],\n",
              "       [2.4284],\n",
              "       [2.428 ],\n",
              "       [2.4276],\n",
              "       [2.4276],\n",
              "       [2.4272],\n",
              "       [2.4272],\n",
              "       [2.4266],\n",
              "       [2.426 ],\n",
              "       [2.426 ],\n",
              "       [2.4254],\n",
              "       [2.4248],\n",
              "       [2.4244],\n",
              "       [2.424 ],\n",
              "       [2.4236],\n",
              "       [2.4236],\n",
              "       [2.4232],\n",
              "       [2.4228],\n",
              "       [2.4224],\n",
              "       [2.4224],\n",
              "       [2.422 ],\n",
              "       [2.4216],\n",
              "       [2.4212],\n",
              "       [2.4212],\n",
              "       [2.42  ],\n",
              "       [2.42  ],\n",
              "       [2.4196],\n",
              "       [2.4192],\n",
              "       [2.4188],\n",
              "       [2.4188],\n",
              "       [2.4184],\n",
              "       [2.4182],\n",
              "       [2.4182],\n",
              "       [2.4172],\n",
              "       [2.4172],\n",
              "       [2.4168],\n",
              "       [2.4166],\n",
              "       [2.4166],\n",
              "       [2.416 ],\n",
              "       [2.4156],\n",
              "       [2.4156],\n",
              "       [2.4152],\n",
              "       [2.4152],\n",
              "       [2.4148],\n",
              "       [2.4144],\n",
              "       [2.414 ],\n",
              "       [2.414 ],\n",
              "       [2.4136],\n",
              "       [2.4132],\n",
              "       [2.4132],\n",
              "       [2.4128],\n",
              "       [2.4128],\n",
              "       [2.4122],\n",
              "       [2.4116],\n",
              "       [2.4112],\n",
              "       [2.4112],\n",
              "       [2.4108],\n",
              "       [2.4104],\n",
              "       [2.4104],\n",
              "       [2.4104],\n",
              "       [2.4074],\n",
              "       [2.4032],\n",
              "       [2.399 ],\n",
              "       [2.395 ],\n",
              "       [2.391 ],\n",
              "       [2.391 ],\n",
              "       [2.3904],\n",
              "       [2.3904],\n",
              "       [2.3904],\n",
              "       [2.3904],\n",
              "       [2.3904],\n",
              "       [2.3902],\n",
              "       [2.3902],\n",
              "       [2.3932],\n",
              "       [2.3968],\n",
              "       [2.398 ],\n",
              "       [2.3756],\n",
              "       [2.3544],\n",
              "       [2.3544],\n",
              "       [2.345 ],\n",
              "       [2.3348],\n",
              "       [2.326 ],\n",
              "       [2.326 ],\n",
              "       [2.3398],\n",
              "       [2.353 ],\n",
              "       [2.3512],\n",
              "       [2.3498],\n",
              "       [2.3496],\n",
              "       [2.3502],\n",
              "       [2.3502],\n",
              "       [2.3502],\n",
              "       [2.3508],\n",
              "       [2.3512],\n",
              "       [2.352 ],\n",
              "       [2.3528],\n",
              "       [2.354 ],\n",
              "       [2.354 ],\n",
              "       [2.354 ],\n",
              "       [2.355 ],\n",
              "       [2.3566],\n",
              "       [2.3566],\n",
              "       [2.358 ],\n",
              "       [2.3596],\n",
              "       [2.3612],\n",
              "       [2.3626],\n",
              "       [2.3626],\n",
              "       [2.3626],\n",
              "       [2.364 ],\n",
              "       [2.3654],\n",
              "       [2.3654],\n",
              "       [2.3664],\n",
              "       [2.3672],\n",
              "       [2.368 ],\n",
              "       [2.368 ],\n",
              "       [2.368 ],\n",
              "       [2.3684],\n",
              "       [2.3686],\n",
              "       [2.3688],\n",
              "       [2.369 ],\n",
              "       [2.369 ],\n",
              "       [2.369 ],\n",
              "       [2.369 ],\n",
              "       [2.3692],\n",
              "       [2.3692],\n",
              "       [2.3692],\n",
              "       [2.3692],\n",
              "       [2.3692],\n",
              "       [2.3694],\n",
              "       [2.3692],\n",
              "       [2.3692],\n",
              "       [2.3692],\n",
              "       [2.3692],\n",
              "       [2.3692],\n",
              "       [2.369 ],\n",
              "       [2.369 ],\n",
              "       [2.369 ],\n",
              "       [2.369 ],\n",
              "       [2.3688],\n",
              "       [2.3686],\n",
              "       [2.3682],\n",
              "       [2.3682],\n",
              "       [2.3678],\n",
              "       [2.3678],\n",
              "       [2.3676],\n",
              "       [2.3676],\n",
              "       [2.3674],\n",
              "       [2.3666],\n",
              "       [2.3666],\n",
              "       [2.3664],\n",
              "       [2.3662],\n",
              "       [2.3662],\n",
              "       [2.3662],\n",
              "       [2.3658],\n",
              "       [2.3656],\n",
              "       [2.3656],\n",
              "       [2.3656],\n",
              "       [2.3652],\n",
              "       [2.3648],\n",
              "       [2.3648],\n",
              "       [2.3642],\n",
              "       [2.3638],\n",
              "       [2.3638],\n",
              "       [2.3634],\n",
              "       [2.3634],\n",
              "       [2.3634],\n",
              "       [2.3634],\n",
              "       [2.363 ],\n",
              "       [2.3624],\n",
              "       [2.3624],\n",
              "       [2.362 ],\n",
              "       [2.3614],\n",
              "       [2.3614],\n",
              "       [2.3608],\n",
              "       [2.3604],\n",
              "       [2.3604],\n",
              "       [2.3604],\n",
              "       [2.3602],\n",
              "       [2.3598],\n",
              "       [2.3594],\n",
              "       [2.3594],\n",
              "       [2.3592],\n",
              "       [2.3588],\n",
              "       [2.3586],\n",
              "       [2.3584],\n",
              "       [2.3582],\n",
              "       [2.3578],\n",
              "       [2.3576],\n",
              "       [2.3576],\n",
              "       [2.3572],\n",
              "       [2.3572],\n",
              "       [2.3562],\n",
              "       [2.3562],\n",
              "       [2.3558],\n",
              "       [2.3554]])"
            ]
          },
          "metadata": {},
          "execution_count": 58
        }
      ]
    },
    {
      "cell_type": "code",
      "source": [
        "mape=mean_absolute_percentage_error(yval,yvprd)\n",
        "rmse = mean_squared_error(yval,yvprd, squared=False)\n",
        "mse = mean_squared_error(yval,yvprd)\n",
        "mae=mean_absolute_error(yval,yvprd)\n",
        "print(mae,mape,rmse)\n",
        "print(mse)"
      ],
      "metadata": {
        "id": "ez697NRv_TZm",
        "colab": {
          "base_uri": "https://localhost:8080/"
        },
        "outputId": "3cd0091e-4b19-4fbf-9ea9-4a659889ae5b"
      },
      "execution_count": null,
      "outputs": [
        {
          "output_type": "stream",
          "name": "stdout",
          "text": [
            "0.027709305373525568 0.0111505299936482 0.03028235410029796\n",
            "0.0009170209698558326\n"
          ]
        }
      ]
    },
    {
      "cell_type": "code",
      "source": [
        "plt.title('KNN Regressor Validation')\n",
        "plt.scatter(Xval,yvprd,alpha=0.5)\n",
        "plt.scatter(Xval,yval,color='red',alpha=0.5)\n",
        "plt.xlabel('Cycle index (Cell b)')\n",
        "plt.ylabel('Charge Capacity (Ah)(Cell b)')\n",
        "plt.legend(['Predicted','Actual']);"
      ],
      "metadata": {
        "id": "pxvOGkLC_TZm",
        "colab": {
          "base_uri": "https://localhost:8080/",
          "height": 295
        },
        "outputId": "4de0d0ec-615a-4482-a918-47bc3efae7b9"
      },
      "execution_count": null,
      "outputs": [
        {
          "output_type": "display_data",
          "data": {
            "text/plain": [
              "<Figure size 432x288 with 1 Axes>"
            ],
            "image/png": "[encoded data removed]"
          },
          "metadata": {
            "needs_background": "light"
          }
        }
      ]
    },
    {
      "cell_type": "code",
      "source": [],
      "metadata": {
        "id": "VTHeydRq4BNy"
      },
      "execution_count": null,
      "outputs": []
    },
    {
      "cell_type": "code",
      "source": [
        "dfresult=pd.DataFrame({\"X_test\":X_test.flatten(),\"y_test\":y_test.flatten(),\"y_pred\":y_pred3.flatten()})\n",
        "dfresult"
      ],
      "metadata": {
        "colab": {
          "base_uri": "https://localhost:8080/",
          "height": 424
        },
        "outputId": "feb58e86-42d2-4770-a933-b9711854a5a0",
        "id": "_Z_Ebdxw4KJc"
      },
      "execution_count": null,
      "outputs": [
        {
          "output_type": "execute_result",
          "data": {
            "text/plain": [
              "     X_test  y_test  y_pred\n",
              "0     361.0   2.502  2.5102\n",
              "1     461.0   2.479  2.4738\n",
              "2      84.0   2.671  2.6706\n",
              "3     332.0   2.530  2.5170\n",
              "4     129.0   2.627  2.6264\n",
              "..      ...     ...     ...\n",
              "150   622.0   2.414  2.4140\n",
              "151   569.0   2.430  2.4306\n",
              "152   294.0   2.539  2.5310\n",
              "153   307.0   2.528  2.5264\n",
              "154   446.0   2.475  2.4742\n",
              "\n",
              "[155 rows x 3 columns]"
            ],
            "text/html": [
              "\n",
              "  <div id=\"df-0a26d65f-a0dd-4a23-b02c-239dec537b3d\">\n",
              "    <div class=\"colab-df-container\">\n",
              "      <div>\n",
              "<style scoped>\n",
              "    .dataframe tbody tr th:only-of-type {\n",
              "        vertical-align: middle;\n",
              "    }\n",
              "\n",
              "    .dataframe tbody tr th {\n",
              "        vertical-align: top;\n",
              "    }\n",
              "\n",
              "    .dataframe thead th {\n",
              "        text-align: right;\n",
              "    }\n",
              "</style>\n",
              "<table border=\"1\" class=\"dataframe\">\n",
              "  <thead>\n",
              "    <tr style=\"text-align: right;\">\n",
              "      <th></th>\n",
              "      <th>X_test</th>\n",
              "      <th>y_test</th>\n",
              "      <th>y_pred</th>\n",
              "    </tr>\n",
              "  </thead>\n",
              "  <tbody>\n",
              "    <tr>\n",
              "      <th>0</th>\n",
              "      <td>361.0</td>\n",
              "      <td>2.502</td>\n",
              "      <td>2.5102</td>\n",
              "    </tr>\n",
              "    <tr>\n",
              "      <th>1</th>\n",
              "      <td>461.0</td>\n",
              "      <td>2.479</td>\n",
              "      <td>2.4738</td>\n",
              "    </tr>\n",
              "    <tr>\n",
              "      <th>2</th>\n",
              "      <td>84.0</td>\n",
              "      <td>2.671</td>\n",
              "      <td>2.6706</td>\n",
              "    </tr>\n",
              "    <tr>\n",
              "      <th>3</th>\n",
              "      <td>332.0</td>\n",
              "      <td>2.530</td>\n",
              "      <td>2.5170</td>\n",
              "    </tr>\n",
              "    <tr>\n",
              "      <th>4</th>\n",
              "      <td>129.0</td>\n",
              "      <td>2.627</td>\n",
              "      <td>2.6264</td>\n",
              "    </tr>\n",
              "    <tr>\n",
              "      <th>...</th>\n",
              "      <td>...</td>\n",
              "      <td>...</td>\n",
              "      <td>...</td>\n",
              "    </tr>\n",
              "    <tr>\n",
              "      <th>150</th>\n",
              "      <td>622.0</td>\n",
              "      <td>2.414</td>\n",
              "      <td>2.4140</td>\n",
              "    </tr>\n",
              "    <tr>\n",
              "      <th>151</th>\n",
              "      <td>569.0</td>\n",
              "      <td>2.430</td>\n",
              "      <td>2.4306</td>\n",
              "    </tr>\n",
              "    <tr>\n",
              "      <th>152</th>\n",
              "      <td>294.0</td>\n",
              "      <td>2.539</td>\n",
              "      <td>2.5310</td>\n",
              "    </tr>\n",
              "    <tr>\n",
              "      <th>153</th>\n",
              "      <td>307.0</td>\n",
              "      <td>2.528</td>\n",
              "      <td>2.5264</td>\n",
              "    </tr>\n",
              "    <tr>\n",
              "      <th>154</th>\n",
              "      <td>446.0</td>\n",
              "      <td>2.475</td>\n",
              "      <td>2.4742</td>\n",
              "    </tr>\n",
              "  </tbody>\n",
              "</table>\n",
              "<p>155 rows × 3 columns</p>\n",
              "</div>\n",
              "      <button class=\"colab-df-convert\" onclick=\"convertToInteractive('df-0a26d65f-a0dd-4a23-b02c-239dec537b3d')\"\n",
              "              title=\"Convert this dataframe to an interactive table.\"\n",
              "              style=\"display:none;\">\n",
              "        \n",
              "  <svg xmlns=\"http://www.w3.org/2000/svg\" height=\"24px\"viewBox=\"0 0 24 24\"\n",
              "       width=\"24px\">\n",
              "    <path d=\"M0 0h24v24H0V0z\" fill=\"none\"/>\n",
              "    <path d=\"M18.56 5.44l.94 2.06.94-2.06 2.06-.94-2.06-.94-.94-2.06-.94 2.06-2.06.94zm-11 1L8.5 8.5l.94-2.06 2.06-.94-2.06-.94L8.5 2.5l-.94 2.06-2.06.94zm10 10l.94 2.06.94-2.06 2.06-.94-2.06-.94-.94-2.06-.94 2.06-2.06.94z\"/><path d=\"M17.41 7.96l-1.37-1.37c-.4-.4-.92-.59-1.43-.59-.52 0-1.04.2-1.43.59L10.3 9.45l-7.72 7.72c-.78.78-.78 2.05 0 2.83L4 21.41c.39.39.9.59 1.41.59.51 0 1.02-.2 1.41-.59l7.78-7.78 2.81-2.81c.8-.78.8-2.07 0-2.86zM5.41 20L4 18.59l7.72-7.72 1.47 1.35L5.41 20z\"/>\n",
              "  </svg>\n",
              "      </button>\n",
              "      \n",
              "  <style>\n",
              "    .colab-df-container {\n",
              "      display:flex;\n",
              "      flex-wrap:wrap;\n",
              "      gap: 12px;\n",
              "    }\n",
              "\n",
              "    .colab-df-convert {\n",
              "      background-color: #E8F0FE;\n",
              "      border: none;\n",
              "      border-radius: 50%;\n",
              "      cursor: pointer;\n",
              "      display: none;\n",
              "      fill: #1967D2;\n",
              "      height: 32px;\n",
              "      padding: 0 0 0 0;\n",
              "      width: 32px;\n",
              "    }\n",
              "\n",
              "    .colab-df-convert:hover {\n",
              "      background-color: #E2EBFA;\n",
              "      box-shadow: 0px 1px 2px rgba(60, 64, 67, 0.3), 0px 1px 3px 1px rgba(60, 64, 67, 0.15);\n",
              "      fill: #174EA6;\n",
              "    }\n",
              "\n",
              "    [theme=dark] .colab-df-convert {\n",
              "      background-color: #3B4455;\n",
              "      fill: #D2E3FC;\n",
              "    }\n",
              "\n",
              "    [theme=dark] .colab-df-convert:hover {\n",
              "      background-color: #434B5C;\n",
              "      box-shadow: 0px 1px 3px 1px rgba(0, 0, 0, 0.15);\n",
              "      filter: drop-shadow(0px 1px 2px rgba(0, 0, 0, 0.3));\n",
              "      fill: #FFFFFF;\n",
              "    }\n",
              "  </style>\n",
              "\n",
              "      <script>\n",
              "        const buttonEl =\n",
              "          document.querySelector('#df-0a26d65f-a0dd-4a23-b02c-239dec537b3d button.colab-df-convert');\n",
              "        buttonEl.style.display =\n",
              "          google.colab.kernel.accessAllowed ? 'block' : 'none';\n",
              "\n",
              "        async function convertToInteractive(key) {\n",
              "          const element = document.querySelector('#df-0a26d65f-a0dd-4a23-b02c-239dec537b3d');\n",
              "          const dataTable =\n",
              "            await google.colab.kernel.invokeFunction('convertToInteractive',\n",
              "                                                     [key], {});\n",
              "          if (!dataTable) return;\n",
              "\n",
              "          const docLinkHtml = 'Like what you see? Visit the ' +\n",
              "            '<a target=\"_blank\" href=https://colab.research.google.com/notebooks/data_table.ipynb>data table notebook</a>'\n",
              "            + ' to learn more about interactive tables.';\n",
              "          element.innerHTML = '';\n",
              "          dataTable['output_type'] = 'display_data';\n",
              "          await google.colab.output.renderOutput(dataTable, element);\n",
              "          const docLink = document.createElement('div');\n",
              "          docLink.innerHTML = docLinkHtml;\n",
              "          element.appendChild(docLink);\n",
              "        }\n",
              "      </script>\n",
              "    </div>\n",
              "  </div>\n",
              "  "
            ]
          },
          "metadata": {},
          "execution_count": 61
        }
      ]
    },
    {
      "cell_type": "code",
      "source": [
        "dfresult=dfresult.sort_values(by='X_test')"
      ],
      "metadata": {
        "id": "z-ETIvDz4KJe"
      },
      "execution_count": null,
      "outputs": []
    },
    {
      "cell_type": "code",
      "source": [
        "plt.title('KNN Regressor Validation')\n",
        "plt.plot(Xval,yvprd,color='orange')\n",
        "#plt.plot(dfresult.X_test,dfresult.y_pred,color='orange')\n",
        "plt.plot(X,y,color='green')\n",
        "plt.plot(Xval,yval,color='blue')\n",
        "\n",
        "plt.xlabel('Cycle index ')\n",
        "plt.ylabel('Charge Capacity (Ah)')\n",
        "plt.legend(['Predicted','Actual (cell a)','Actual (cell b)']);"
      ],
      "metadata": {
        "colab": {
          "base_uri": "https://localhost:8080/",
          "height": 295
        },
        "outputId": "b22b085b-fe37-4e72-e57a-ac2cbe4b7e1d",
        "id": "oqT3UIeK4KJf"
      },
      "execution_count": null,
      "outputs": [
        {
          "output_type": "display_data",
          "data": {
            "text/plain": [
              "<Figure size 432x288 with 1 Axes>"
            ],
            "image/png": "[encoded data removed]"
          },
          "metadata": {
            "needs_background": "light"
          }
        }
      ]
    },
    {
      "cell_type": "code",
      "source": [
        "plt.title('KNN Regressor Validation')\n",
        "plt.plot(Xval,yvprd,color='black',ls='--')\n",
        "#plt.plot(dfresult.X_test,dfresult.y_pred,color='orange')\n",
        "plt.plot(X,y,color='red')\n",
        "plt.plot(Xval,yval,color='blue')\n",
        "\n",
        "plt.xlabel('Cycle index ')\n",
        "plt.ylabel('Charge Capacity (Ah)')\n",
        "plt.legend(['Predicted','Actual (cell a)','Actual (cell b)']);"
      ],
      "metadata": {
        "colab": {
          "base_uri": "https://localhost:8080/",
          "height": 295
        },
        "id": "vy_1Nl1aKyed",
        "outputId": "f79126e0-d4d1-4c43-b6ff-6d45c5ca23ea"
      },
      "execution_count": null,
      "outputs": [
        {
          "output_type": "display_data",
          "data": {
            "text/plain": [
              "<Figure size 432x288 with 1 Axes>"
            ],
            "image/png": "[encoded data removed]"
          },
          "metadata": {
            "needs_background": "light"
          }
        }
      ]
    },
    {
      "cell_type": "code",
      "source": [
        "from sklearn.ensemble import RandomForestRegressor\n",
        "rf_Model = RandomForestRegressor()"
      ],
      "metadata": {
        "id": "UQybatVo8W48"
      },
      "execution_count": null,
      "outputs": []
    },
    {
      "cell_type": "code",
      "source": [
        "n_estimators = [int(x) for x in np.linspace(start = 10, stop = 80, num = 10)]\n",
        "# Number of features to consider at every split\n",
        "max_features = ['auto', 'sqrt']\n",
        "# Maximum number of levels in tree\n",
        "max_depth = [2,4]\n",
        "# Minimum number of samples required to split a node\n",
        "min_samples_split = [2, 5]\n",
        "# Minimum number of samples required at each leaf node\n",
        "min_samples_leaf = [1, 2]\n",
        "# Method of selecting samples for training each tree\n",
        "bootstrap = [True, False]\n",
        "param_grid = {'n_estimators': n_estimators,\n",
        "               'max_features': max_features,\n",
        "               'max_depth': max_depth,\n",
        "               'min_samples_split': min_samples_split,\n",
        "               'min_samples_leaf': min_samples_leaf,\n",
        "               'bootstrap': bootstrap}\n",
        "print(param_grid)"
      ],
      "metadata": {
        "colab": {
          "base_uri": "https://localhost:8080/"
        },
        "id": "lCob_wi18kNk",
        "outputId": "bec3289b-390e-4acc-ae04-2fcf0ab1b0bb"
      },
      "execution_count": null,
      "outputs": [
        {
          "output_type": "stream",
          "name": "stdout",
          "text": [
            "{'n_estimators': [10, 17, 25, 33, 41, 48, 56, 64, 72, 80], 'max_features': ['auto', 'sqrt'], 'max_depth': [2, 4], 'min_samples_split': [2, 5], 'min_samples_leaf': [1, 2], 'bootstrap': [True, False]}\n"
          ]
        }
      ]
    },
    {
      "cell_type": "code",
      "source": [
        "from sklearn.model_selection import RandomizedSearchCV\n",
        "rf_RandomGrid = RandomizedSearchCV(estimator = rf_Model, param_distributions = param_grid, cv = 10, verbose=2, n_jobs = 4)"
      ],
      "metadata": {
        "id": "L51v_bbXmDwy"
      },
      "execution_count": null,
      "outputs": []
    },
    {
      "cell_type": "code",
      "source": [
        "rf_RandomGrid.fit(X_train, y_train)"
      ],
      "metadata": {
        "colab": {
          "base_uri": "https://localhost:8080/"
        },
        "id": "0Mm4MoAb20WZ",
        "outputId": "25681750-8f8a-47ac-e903-99d4d6f5ad57"
      },
      "execution_count": null,
      "outputs": [
        {
          "output_type": "stream",
          "name": "stdout",
          "text": [
            "Fitting 10 folds for each of 10 candidates, totalling 100 fits\n"
          ]
        },
        {
          "output_type": "stream",
          "name": "stderr",
          "text": [
            "/usr/local/lib/python3.8/dist-packages/sklearn/model_selection/_search.py:926: DataConversionWarning: A column-vector y was passed when a 1d array was expected. Please change the shape of y to (n_samples,), for example using ravel().\n",
            "  self.best_estimator_.fit(X, y, **fit_params)\n"
          ]
        },
        {
          "output_type": "execute_result",
          "data": {
            "text/plain": [
              "RandomizedSearchCV(cv=10, estimator=RandomForestRegressor(), n_jobs=4,\n",
              "                   param_distributions={'bootstrap': [True, False],\n",
              "                                        'max_depth': [2, 4],\n",
              "                                        'max_features': ['auto', 'sqrt'],\n",
              "                                        'min_samples_leaf': [1, 2],\n",
              "                                        'min_samples_split': [2, 5],\n",
              "                                        'n_estimators': [10, 17, 25, 33, 41, 48,\n",
              "                                                         56, 64, 72, 80]},\n",
              "                   verbose=2)"
            ]
          },
          "metadata": {},
          "execution_count": 68
        }
      ]
    },
    {
      "cell_type": "code",
      "source": [
        "rf_RandomGrid.best_params_\n"
      ],
      "metadata": {
        "colab": {
          "base_uri": "https://localhost:8080/"
        },
        "id": "viDdsUDH77Da",
        "outputId": "b748db25-b239-4577-8dee-d3e6d1059cd8"
      },
      "execution_count": null,
      "outputs": [
        {
          "output_type": "execute_result",
          "data": {
            "text/plain": [
              "{'n_estimators': 25,\n",
              " 'min_samples_split': 2,\n",
              " 'min_samples_leaf': 2,\n",
              " 'max_features': 'auto',\n",
              " 'max_depth': 4,\n",
              " 'bootstrap': True}"
            ]
          },
          "metadata": {},
          "execution_count": 69
        }
      ]
    },
    {
      "cell_type": "code",
      "source": [
        "print (f'Train Accuracy - : {rf_RandomGrid.score(X_train,y_train)}')\n",
        "print (f'Test Accuracy - : {rf_RandomGrid.score(X_test,y_test)}')"
      ],
      "metadata": {
        "colab": {
          "base_uri": "https://localhost:8080/"
        },
        "id": "JRwGo32X8BUY",
        "outputId": "9455cc1d-d950-440e-bf84-bf91230a1e09"
      },
      "execution_count": null,
      "outputs": [
        {
          "output_type": "stream",
          "name": "stdout",
          "text": [
            "Train Accuracy - : 0.9836536637495452\n",
            "Test Accuracy - : 0.9935343563923682\n"
          ]
        }
      ]
    },
    {
      "cell_type": "code",
      "source": [
        "reg=RandomForestRegressor(n_estimators= 25, min_samples_split= 2, min_samples_leaf= 2,max_features= 'auto',max_depth= 4,bootstrap= True)\n"
      ],
      "metadata": {
        "id": "tfOxCf8E9AR1"
      },
      "execution_count": null,
      "outputs": []
    },
    {
      "cell_type": "code",
      "source": [
        "reg.fit(X_train,y_train)"
      ],
      "metadata": {
        "colab": {
          "base_uri": "https://localhost:8080/"
        },
        "id": "PFHuKtUO9Yei",
        "outputId": "4083d092-0aa0-4670-febb-c9818da58cf1"
      },
      "execution_count": null,
      "outputs": [
        {
          "output_type": "stream",
          "name": "stderr",
          "text": [
            "<ipython-input-72-76dcf3f49433>:1: DataConversionWarning: A column-vector y was passed when a 1d array was expected. Please change the shape of y to (n_samples,), for example using ravel().\n",
            "  reg.fit(X_train,y_train)\n"
          ]
        },
        {
          "output_type": "execute_result",
          "data": {
            "text/plain": [
              "RandomForestRegressor(max_depth=4, min_samples_leaf=2, n_estimators=25)"
            ]
          },
          "metadata": {},
          "execution_count": 72
        }
      ]
    },
    {
      "cell_type": "code",
      "source": [
        "y_predrf=reg.predict(X_test)"
      ],
      "metadata": {
        "id": "Tli-pw9w97Gc"
      },
      "execution_count": null,
      "outputs": []
    },
    {
      "cell_type": "code",
      "source": [
        "mape=mean_absolute_percentage_error(y_test,y_predrf)\n",
        "rmse = mean_squared_error(y_test,y_predrf, squared=False)\n",
        "mse = mean_squared_error(y_test,y_predrf)\n",
        "mae=mean_absolute_error(y_test,y_predrf)\n",
        "print(mae,mape,rmse)\n",
        "print(mse)"
      ],
      "metadata": {
        "colab": {
          "base_uri": "https://localhost:8080/"
        },
        "id": "OIy2y8WA-DrK",
        "outputId": "7a1a320c-8699-4548-e6fb-da116f37c226"
      },
      "execution_count": null,
      "outputs": [
        {
          "output_type": "stream",
          "name": "stdout",
          "text": [
            "0.0060095120749195955 0.0023653543833807595 0.010523375050146559\n",
            "0.00011074142244604707\n"
          ]
        }
      ]
    },
    {
      "cell_type": "code",
      "source": [
        "plt.title('Random Forest Regressor')\n",
        "plt.scatter(X_test,y_predrf,alpha=0.5)\n",
        "plt.scatter(X_test,y_test,color='red',alpha=0.5)\n",
        "plt.xlabel('Cycle index')\n",
        "plt.ylabel('Charge Capacity (Ah)')\n",
        "plt.legend(['Predicted','Actual']);"
      ],
      "metadata": {
        "colab": {
          "base_uri": "https://localhost:8080/",
          "height": 295
        },
        "id": "NMqd0nXs-JSl",
        "outputId": "7afb2149-194d-482c-fc10-96db5ecdb2df"
      },
      "execution_count": null,
      "outputs": [
        {
          "output_type": "display_data",
          "data": {
            "text/plain": [
              "<Figure size 432x288 with 1 Axes>"
            ],
            "image/png": "[encoded data removed]"
          },
          "metadata": {
            "needs_background": "light"
          }
        }
      ]
    },
    {
      "cell_type": "code",
      "source": [
        "yvprd=reg.predict(Xval)\n",
        "yvprd"
      ],
      "metadata": {
        "id": "pRD5-s9Q_ol2",
        "colab": {
          "base_uri": "https://localhost:8080/"
        },
        "outputId": "80b3b47e-2dd7-48e7-aff8-33cdf3630a1a"
      },
      "execution_count": null,
      "outputs": [
        {
          "output_type": "execute_result",
          "data": {
            "text/plain": [
              "array([2.77502941, 2.77502941, 2.79793474, 2.83193375, 2.83719775,\n",
              "       2.84166145, 2.84425361, 2.84164088, 2.84164088, 2.83919802,\n",
              "       2.83919802, 2.83919802, 2.83919802, 2.83659887, 2.83412807,\n",
              "       2.83116974, 2.82859807, 2.82227414, 2.82227414, 2.82103414,\n",
              "       2.82103414, 2.81797636, 2.81797636, 2.81797636, 2.81797636,\n",
              "       2.81650296, 2.81650296, 2.81483071, 2.81483071, 2.81483071,\n",
              "       2.81151864, 2.80240317, 2.77418008, 2.75981783, 2.75981783,\n",
              "       2.75981783, 2.75981783, 2.75146227, 2.75146227, 2.75146227,\n",
              "       2.75037783, 2.74750476, 2.74510052, 2.73757986, 2.7336408 ,\n",
              "       2.72901598, 2.72773904, 2.72492878, 2.72320928, 2.72037817,\n",
              "       2.72037817, 2.71846873, 2.71517034, 2.712893  , 2.70946067,\n",
              "       2.70946067, 2.70946067, 2.707902  , 2.70504394, 2.6998228 ,\n",
              "       2.69832794, 2.69832794, 2.69357934, 2.69357934, 2.69190168,\n",
              "       2.69009081, 2.68709658, 2.68709658, 2.68709658, 2.68524648,\n",
              "       2.68524648, 2.68308076, 2.68152599, 2.6803078 , 2.67898719,\n",
              "       2.67898719, 2.67898719, 2.67704469, 2.67363498, 2.67363498,\n",
              "       2.67235765, 2.67235765, 2.67093987, 2.66777356, 2.66310933,\n",
              "       2.66176349, 2.66028669, 2.65891418, 2.65891418, 2.65742644,\n",
              "       2.6561999 , 2.6561999 , 2.6561999 , 2.65481242, 2.65481242,\n",
              "       2.65481242, 2.65323108, 2.65224926, 2.65224926, 2.65224926,\n",
              "       2.65224926, 2.64920784, 2.64759711, 2.64759711, 2.64759711,\n",
              "       2.64759711, 2.64759711, 2.64759711, 2.64618625, 2.64472764,\n",
              "       2.64472764, 2.64472764, 2.64472764, 2.64334209, 2.64012227,\n",
              "       2.64012227, 2.63895541, 2.63752697, 2.63601249, 2.63363518,\n",
              "       2.63090441, 2.63090441, 2.62837452, 2.62738366, 2.6248323 ,\n",
              "       2.6248323 , 2.6248323 , 2.62347287, 2.62347287, 2.62347287,\n",
              "       2.62230395, 2.62084937, 2.61955089, 2.61955089, 2.61955089,\n",
              "       2.61955089, 2.61955089, 2.61955089, 2.61955089, 2.61955089,\n",
              "       2.61955089, 2.61955089, 2.61850422, 2.61850422, 2.61850422,\n",
              "       2.61850422, 2.61850422, 2.61850422, 2.61660428, 2.61564665,\n",
              "       2.61564665, 2.61564665, 2.61495826, 2.61495826, 2.61495826,\n",
              "       2.61495826, 2.61495826, 2.61495826, 2.61495826, 2.61495826,\n",
              "       2.61495826, 2.61495826, 2.61495826, 2.61495826, 2.61013432,\n",
              "       2.60653894, 2.57642214, 2.56997072, 2.56527037, 2.56996539,\n",
              "       2.56996539, 2.56996539, 2.56996539, 2.56996539, 2.56996539,\n",
              "       2.57137872, 2.57137872, 2.57137872, 2.57137872, 2.57137872,\n",
              "       2.57137872, 2.57137872, 2.57137872, 2.57137872, 2.57137872,\n",
              "       2.57137872, 2.57137872, 2.57137872, 2.57137872, 2.57137872,\n",
              "       2.57137872, 2.57137872, 2.57137872, 2.57137872, 2.57137872,\n",
              "       2.57137872, 2.57137872, 2.57137872, 2.57137872, 2.57137872,\n",
              "       2.57137872, 2.57137872, 2.57137872, 2.57137872, 2.57137872,\n",
              "       2.57137872, 2.57137872, 2.57137872, 2.57137872, 2.56964468,\n",
              "       2.56574938, 2.55610922, 2.55233466, 2.55233466, 2.55233466,\n",
              "       2.55233466, 2.55233466, 2.55233466, 2.55233466, 2.55233466,\n",
              "       2.55233466, 2.55233466, 2.55233466, 2.55233466, 2.55233466,\n",
              "       2.55233466, 2.55233466, 2.55233466, 2.55233466, 2.55233466,\n",
              "       2.55233466, 2.55233466, 2.55233466, 2.55233466, 2.55233466,\n",
              "       2.55233466, 2.55233466, 2.55233466, 2.55233466, 2.55233466,\n",
              "       2.55233466, 2.55233466, 2.55233466, 2.55233466, 2.55233466,\n",
              "       2.55233466, 2.55233466, 2.55233466, 2.55233466, 2.55233466,\n",
              "       2.55233466, 2.55233466, 2.55233466, 2.55233466, 2.52677611,\n",
              "       2.52563248, 2.52201817, 2.52065179, 2.52065179, 2.52065179,\n",
              "       2.52065179, 2.52065179, 2.52065179, 2.52065179, 2.52065179,\n",
              "       2.52065179, 2.52065179, 2.52065179, 2.52065179, 2.52065179,\n",
              "       2.52065179, 2.52065179, 2.52065179, 2.52065179, 2.52065179,\n",
              "       2.52065179, 2.52065179, 2.52065179, 2.52065179, 2.52065179,\n",
              "       2.52065179, 2.52065179, 2.52065179, 2.52065179, 2.52065179,\n",
              "       2.52065179, 2.52065179, 2.52065179, 2.52065179, 2.52065179,\n",
              "       2.52065179, 2.52065179, 2.52065179, 2.52065179, 2.52065179,\n",
              "       2.52065179, 2.52065179, 2.52065179, 2.52065179, 2.52065179,\n",
              "       2.52065179, 2.52065179, 2.52065179, 2.52065179, 2.52065179,\n",
              "       2.52065179, 2.52065179, 2.52065179, 2.52065179, 2.52065179,\n",
              "       2.52065179, 2.52065179, 2.52065179, 2.52065179, 2.52065179,\n",
              "       2.52065179, 2.52065179, 2.52065179, 2.52065179, 2.52065179,\n",
              "       2.52065179, 2.52065179, 2.52065179, 2.52065179, 2.52065179,\n",
              "       2.52065179, 2.52065179, 2.52065179, 2.52065179, 2.52065179,\n",
              "       2.52065179, 2.52065179, 2.52065179, 2.52065179, 2.51992091,\n",
              "       2.51924134, 2.51850639, 2.51850639, 2.51850639, 2.51850639,\n",
              "       2.51850639, 2.51850639, 2.51484918, 2.51421483, 2.51421483,\n",
              "       2.51421483, 2.51421483, 2.51421483, 2.51421483, 2.51421483,\n",
              "       2.51421483, 2.51421483, 2.51421483, 2.51421483, 2.51421483,\n",
              "       2.51421483, 2.51421483, 2.51421483, 2.51421483, 2.51421483,\n",
              "       2.51421483, 2.51421483, 2.51421483, 2.51421483, 2.51421483,\n",
              "       2.51421483, 2.51421483, 2.51421483, 2.51421483, 2.51421483,\n",
              "       2.51421483, 2.51287169, 2.51022603, 2.51022603, 2.50883325,\n",
              "       2.50883325, 2.50883325, 2.50883325, 2.50883325, 2.50883325,\n",
              "       2.50883325, 2.50883325, 2.50883325, 2.50883325, 2.50786568,\n",
              "       2.50786568, 2.50786568, 2.50786568, 2.50270721, 2.48282703,\n",
              "       2.48282703, 2.48149642, 2.48149642, 2.48149642, 2.48149642,\n",
              "       2.48149642, 2.48149642, 2.48149642, 2.48149642, 2.48149642,\n",
              "       2.48149642, 2.48149642, 2.48149642, 2.48149642, 2.48149642,\n",
              "       2.48149642, 2.48149642, 2.48149642, 2.48149642, 2.48149642,\n",
              "       2.48149642, 2.48149642, 2.48149642, 2.48149642, 2.48149642,\n",
              "       2.48149642, 2.48149642, 2.48149642, 2.48149642, 2.48149642,\n",
              "       2.48149642, 2.48149642, 2.48149642, 2.48149642, 2.48149642,\n",
              "       2.48149642, 2.48149642, 2.48149642, 2.48149642, 2.48149642,\n",
              "       2.48149642, 2.48149642, 2.48149642, 2.48149642, 2.48149642,\n",
              "       2.48149642, 2.48149642, 2.48149642, 2.48149642, 2.48068434,\n",
              "       2.48068434, 2.47973267, 2.47973267, 2.47973267, 2.47973267,\n",
              "       2.47973267, 2.47973267, 2.47881764, 2.47881764, 2.47881764,\n",
              "       2.47881764, 2.47791703, 2.47712507, 2.47712507, 2.47712507,\n",
              "       2.47712507, 2.47712507, 2.47712507, 2.47712507, 2.47269561,\n",
              "       2.47269561, 2.47269561, 2.47269561, 2.47269561, 2.47269561,\n",
              "       2.47269561, 2.47269561, 2.47269561, 2.47269561, 2.47269561,\n",
              "       2.47269561, 2.47269561, 2.47269561, 2.47070013, 2.46422154,\n",
              "       2.46422154, 2.46331228, 2.46331228, 2.46331228, 2.46146311,\n",
              "       2.46146311, 2.46146311, 2.46146311, 2.46146311, 2.46146311,\n",
              "       2.46146311, 2.46146311, 2.46146311, 2.46146311, 2.46146311,\n",
              "       2.46146311, 2.46146311, 2.46146311, 2.46146311, 2.46002821,\n",
              "       2.46002821, 2.45915766, 2.45915766, 2.45915766, 2.45915766,\n",
              "       2.45915766, 2.45915766, 2.45915766, 2.45915766, 2.45915766,\n",
              "       2.45915766, 2.45915766, 2.45915766, 2.45915766, 2.45915766,\n",
              "       2.45915766, 2.45915766, 2.45915766, 2.45654468, 2.45271789,\n",
              "       2.45144778, 2.45144778, 2.45144778, 2.44912459, 2.43393667,\n",
              "       2.43133518, 2.43133518, 2.43133518, 2.43133518, 2.43133518,\n",
              "       2.43133518, 2.43133518, 2.43133518, 2.43133518, 2.43133518,\n",
              "       2.43133518, 2.43133518, 2.43133518, 2.43133518, 2.43133518,\n",
              "       2.43133518, 2.43133518, 2.43133518, 2.43133518, 2.43133518,\n",
              "       2.43133518, 2.43133518, 2.43133518, 2.43133518, 2.43133518,\n",
              "       2.43133518, 2.43133518, 2.43133518, 2.43133518, 2.43133518,\n",
              "       2.43133518, 2.43133518, 2.43133518, 2.43133518, 2.43133518,\n",
              "       2.43133518, 2.43133518, 2.43133518, 2.43133518, 2.43133518,\n",
              "       2.43133518, 2.43133518, 2.43133518, 2.43133518, 2.43133518,\n",
              "       2.43133518, 2.43133518, 2.43133518, 2.43133518, 2.43133518,\n",
              "       2.43133518, 2.43133518, 2.43133518, 2.43133518, 2.43133518,\n",
              "       2.43133518, 2.43075142, 2.43008561, 2.42945652, 2.42758119,\n",
              "       2.42691191, 2.42691191, 2.42630991, 2.42502669, 2.4242954 ,\n",
              "       2.4242954 , 2.4242954 , 2.4236345 , 2.4236345 , 2.4236345 ,\n",
              "       2.4236345 , 2.42282938, 2.42282938, 2.4218785 , 2.42016795,\n",
              "       2.41939806, 2.41593055, 2.41593055, 2.41593055, 2.41593055,\n",
              "       2.41593055, 2.41593055, 2.41593055, 2.41490579, 2.41394086,\n",
              "       2.41394086, 2.41394086, 2.41394086, 2.41394086, 2.41394086,\n",
              "       2.41394086, 2.41394086, 2.41394086, 2.41394086, 2.41394086,\n",
              "       2.41394086, 2.41394086, 2.41394086, 2.41394086, 2.41394086,\n",
              "       2.41394086, 2.41394086, 2.41394086, 2.41394086, 2.41394086,\n",
              "       2.41394086, 2.41394086, 2.41394086, 2.41394086, 2.41394086,\n",
              "       2.41032775, 2.40415946, 2.40218898, 2.40013258, 2.40013258,\n",
              "       2.40013258, 2.40013258, 2.40013258, 2.40013258, 2.40013258,\n",
              "       2.40013258, 2.40013258, 2.40013258, 2.40013258, 2.40013258,\n",
              "       2.40013258, 2.39892892, 2.36165377, 2.32500123, 2.32247762,\n",
              "       2.32003042, 2.3458728 , 2.35719104, 2.36103926, 2.36103926,\n",
              "       2.36103926, 2.36103926, 2.36103926, 2.36103926, 2.36103926,\n",
              "       2.36103926, 2.36103926, 2.36103926, 2.36103926, 2.36103926,\n",
              "       2.36103926, 2.36103926, 2.36103926, 2.36103926, 2.36103926,\n",
              "       2.36103926, 2.36103926, 2.36103926, 2.36103926, 2.36103926,\n",
              "       2.36103926, 2.36103926, 2.36103926, 2.36103926, 2.36103926,\n",
              "       2.36103926, 2.36103926, 2.36103926, 2.36103926, 2.36103926,\n",
              "       2.36103926, 2.36103926, 2.36103926, 2.36103926, 2.36103926,\n",
              "       2.36103926, 2.36103926, 2.36103926, 2.36103926, 2.36103926,\n",
              "       2.36103926, 2.36103926, 2.36103926, 2.36103926, 2.36103926,\n",
              "       2.36103926, 2.36103926, 2.36103926, 2.36103926, 2.36103926,\n",
              "       2.36103926, 2.36103926, 2.36103926, 2.36103926, 2.36103926,\n",
              "       2.36103926, 2.36103926, 2.36103926, 2.36103926, 2.36103926,\n",
              "       2.36103926, 2.36103926, 2.36103926, 2.36103926, 2.36103926,\n",
              "       2.36103926, 2.36103926, 2.36103926, 2.36103926, 2.36103926,\n",
              "       2.36103926, 2.36103926, 2.36103926, 2.36103926, 2.36103926,\n",
              "       2.36103926, 2.36103926, 2.36103926, 2.36103926, 2.36103926,\n",
              "       2.36103926, 2.36103926, 2.36103926, 2.36103926, 2.36103926,\n",
              "       2.36103926, 2.36103926, 2.36103926, 2.36103926, 2.36103926,\n",
              "       2.36103926, 2.36103926, 2.36103926, 2.36103926, 2.36103926,\n",
              "       2.36103926, 2.36103926, 2.36103926, 2.36103926, 2.36103926,\n",
              "       2.36103926, 2.36103926, 2.36103926, 2.36103926, 2.36103926,\n",
              "       2.36103926, 2.36103926, 2.36103926])"
            ]
          },
          "metadata": {},
          "execution_count": 76
        }
      ]
    },
    {
      "cell_type": "code",
      "source": [
        "mape=mean_absolute_percentage_error(yval,yvprd)\n",
        "rmse = mean_squared_error(yval,yvprd, squared=False)\n",
        "mse = mean_squared_error(yval,yvprd)\n",
        "mae=mean_absolute_error(yval,yvprd)\n",
        "print(mae,mape,rmse)\n",
        "print(mse)"
      ],
      "metadata": {
        "id": "pGlijS8K_ol3",
        "colab": {
          "base_uri": "https://localhost:8080/"
        },
        "outputId": "f7db0bf0-949c-48a9-80be-b2bfa7df270a"
      },
      "execution_count": null,
      "outputs": [
        {
          "output_type": "stream",
          "name": "stdout",
          "text": [
            "0.027005599486353407 0.010864013210857962 0.030800264633491493\n",
            "0.0009486563014931069\n"
          ]
        }
      ]
    },
    {
      "cell_type": "code",
      "source": [
        "plt.title('RF Regressor Validation')\n",
        "plt.scatter(Xval,yvprd,alpha=0.5)\n",
        "plt.scatter(Xval,yval,color='red',alpha=0.5)\n",
        "plt.xlabel('Cycle index (Cell b)')\n",
        "plt.ylabel('Charge Capacity (Ah)(Cell b)')\n",
        "plt.legend(['Predicted','Actual']);"
      ],
      "metadata": {
        "id": "URbmLuiG_ol4",
        "colab": {
          "base_uri": "https://localhost:8080/",
          "height": 295
        },
        "outputId": "e03b4cd3-59d4-4c9f-8661-a20b7e90b9de"
      },
      "execution_count": null,
      "outputs": [
        {
          "output_type": "display_data",
          "data": {
            "text/plain": [
              "<Figure size 432x288 with 1 Axes>"
            ],
            "image/png": "[encoded data removed]"
          },
          "metadata": {
            "needs_background": "light"
          }
        }
      ]
    },
    {
      "cell_type": "code",
      "source": [],
      "metadata": {
        "id": "MUoVXDO14-EN"
      },
      "execution_count": null,
      "outputs": []
    },
    {
      "cell_type": "code",
      "source": [
        "dfresult=pd.DataFrame({\"X_test\":X_test.flatten(),\"y_test\":y_test.flatten(),\"y_pred\":y_predrf.flatten()})\n",
        "dfresult"
      ],
      "metadata": {
        "colab": {
          "base_uri": "https://localhost:8080/",
          "height": 424
        },
        "outputId": "bb75fa6b-0a0f-4604-8671-ef2fc78de147",
        "id": "jdrdz8Pc5HF-"
      },
      "execution_count": null,
      "outputs": [
        {
          "output_type": "execute_result",
          "data": {
            "text/plain": [
              "     X_test  y_test    y_pred\n",
              "0     361.0   2.502  2.514215\n",
              "1     461.0   2.479  2.477125\n",
              "2      84.0   2.671  2.672358\n",
              "3     332.0   2.530  2.520652\n",
              "4     129.0   2.627  2.624832\n",
              "..      ...     ...       ...\n",
              "150   622.0   2.414  2.413941\n",
              "151   569.0   2.430  2.431335\n",
              "152   294.0   2.539  2.520652\n",
              "153   307.0   2.528  2.520652\n",
              "154   446.0   2.475  2.480684\n",
              "\n",
              "[155 rows x 3 columns]"
            ],
            "text/html": [
              "\n",
              "  <div id=\"df-7901820c-9388-4ade-8e07-a95f759378eb\">\n",
              "    <div class=\"colab-df-container\">\n",
              "      <div>\n",
              "<style scoped>\n",
              "    .dataframe tbody tr th:only-of-type {\n",
              "        vertical-align: middle;\n",
              "    }\n",
              "\n",
              "    .dataframe tbody tr th {\n",
              "        vertical-align: top;\n",
              "    }\n",
              "\n",
              "    .dataframe thead th {\n",
              "        text-align: right;\n",
              "    }\n",
              "</style>\n",
              "<table border=\"1\" class=\"dataframe\">\n",
              "  <thead>\n",
              "    <tr style=\"text-align: right;\">\n",
              "      <th></th>\n",
              "      <th>X_test</th>\n",
              "      <th>y_test</th>\n",
              "      <th>y_pred</th>\n",
              "    </tr>\n",
              "  </thead>\n",
              "  <tbody>\n",
              "    <tr>\n",
              "      <th>0</th>\n",
              "      <td>361.0</td>\n",
              "      <td>2.502</td>\n",
              "      <td>2.514215</td>\n",
              "    </tr>\n",
              "    <tr>\n",
              "      <th>1</th>\n",
              "      <td>461.0</td>\n",
              "      <td>2.479</td>\n",
              "      <td>2.477125</td>\n",
              "    </tr>\n",
              "    <tr>\n",
              "      <th>2</th>\n",
              "      <td>84.0</td>\n",
              "      <td>2.671</td>\n",
              "      <td>2.672358</td>\n",
              "    </tr>\n",
              "    <tr>\n",
              "      <th>3</th>\n",
              "      <td>332.0</td>\n",
              "      <td>2.530</td>\n",
              "      <td>2.520652</td>\n",
              "    </tr>\n",
              "    <tr>\n",
              "      <th>4</th>\n",
              "      <td>129.0</td>\n",
              "      <td>2.627</td>\n",
              "      <td>2.624832</td>\n",
              "    </tr>\n",
              "    <tr>\n",
              "      <th>...</th>\n",
              "      <td>...</td>\n",
              "      <td>...</td>\n",
              "      <td>...</td>\n",
              "    </tr>\n",
              "    <tr>\n",
              "      <th>150</th>\n",
              "      <td>622.0</td>\n",
              "      <td>2.414</td>\n",
              "      <td>2.413941</td>\n",
              "    </tr>\n",
              "    <tr>\n",
              "      <th>151</th>\n",
              "      <td>569.0</td>\n",
              "      <td>2.430</td>\n",
              "      <td>2.431335</td>\n",
              "    </tr>\n",
              "    <tr>\n",
              "      <th>152</th>\n",
              "      <td>294.0</td>\n",
              "      <td>2.539</td>\n",
              "      <td>2.520652</td>\n",
              "    </tr>\n",
              "    <tr>\n",
              "      <th>153</th>\n",
              "      <td>307.0</td>\n",
              "      <td>2.528</td>\n",
              "      <td>2.520652</td>\n",
              "    </tr>\n",
              "    <tr>\n",
              "      <th>154</th>\n",
              "      <td>446.0</td>\n",
              "      <td>2.475</td>\n",
              "      <td>2.480684</td>\n",
              "    </tr>\n",
              "  </tbody>\n",
              "</table>\n",
              "<p>155 rows × 3 columns</p>\n",
              "</div>\n",
              "      <button class=\"colab-df-convert\" onclick=\"convertToInteractive('df-7901820c-9388-4ade-8e07-a95f759378eb')\"\n",
              "              title=\"Convert this dataframe to an interactive table.\"\n",
              "              style=\"display:none;\">\n",
              "        \n",
              "  <svg xmlns=\"http://www.w3.org/2000/svg\" height=\"24px\"viewBox=\"0 0 24 24\"\n",
              "       width=\"24px\">\n",
              "    <path d=\"M0 0h24v24H0V0z\" fill=\"none\"/>\n",
              "    <path d=\"M18.56 5.44l.94 2.06.94-2.06 2.06-.94-2.06-.94-.94-2.06-.94 2.06-2.06.94zm-11 1L8.5 8.5l.94-2.06 2.06-.94-2.06-.94L8.5 2.5l-.94 2.06-2.06.94zm10 10l.94 2.06.94-2.06 2.06-.94-2.06-.94-.94-2.06-.94 2.06-2.06.94z\"/><path d=\"M17.41 7.96l-1.37-1.37c-.4-.4-.92-.59-1.43-.59-.52 0-1.04.2-1.43.59L10.3 9.45l-7.72 7.72c-.78.78-.78 2.05 0 2.83L4 21.41c.39.39.9.59 1.41.59.51 0 1.02-.2 1.41-.59l7.78-7.78 2.81-2.81c.8-.78.8-2.07 0-2.86zM5.41 20L4 18.59l7.72-7.72 1.47 1.35L5.41 20z\"/>\n",
              "  </svg>\n",
              "      </button>\n",
              "      \n",
              "  <style>\n",
              "    .colab-df-container {\n",
              "      display:flex;\n",
              "      flex-wrap:wrap;\n",
              "      gap: 12px;\n",
              "    }\n",
              "\n",
              "    .colab-df-convert {\n",
              "      background-color: #E8F0FE;\n",
              "      border: none;\n",
              "      border-radius: 50%;\n",
              "      cursor: pointer;\n",
              "      display: none;\n",
              "      fill: #1967D2;\n",
              "      height: 32px;\n",
              "      padding: 0 0 0 0;\n",
              "      width: 32px;\n",
              "    }\n",
              "\n",
              "    .colab-df-convert:hover {\n",
              "      background-color: #E2EBFA;\n",
              "      box-shadow: 0px 1px 2px rgba(60, 64, 67, 0.3), 0px 1px 3px 1px rgba(60, 64, 67, 0.15);\n",
              "      fill: #174EA6;\n",
              "    }\n",
              "\n",
              "    [theme=dark] .colab-df-convert {\n",
              "      background-color: #3B4455;\n",
              "      fill: #D2E3FC;\n",
              "    }\n",
              "\n",
              "    [theme=dark] .colab-df-convert:hover {\n",
              "      background-color: #434B5C;\n",
              "      box-shadow: 0px 1px 3px 1px rgba(0, 0, 0, 0.15);\n",
              "      filter: drop-shadow(0px 1px 2px rgba(0, 0, 0, 0.3));\n",
              "      fill: #FFFFFF;\n",
              "    }\n",
              "  </style>\n",
              "\n",
              "      <script>\n",
              "        const buttonEl =\n",
              "          document.querySelector('#df-7901820c-9388-4ade-8e07-a95f759378eb button.colab-df-convert');\n",
              "        buttonEl.style.display =\n",
              "          google.colab.kernel.accessAllowed ? 'block' : 'none';\n",
              "\n",
              "        async function convertToInteractive(key) {\n",
              "          const element = document.querySelector('#df-7901820c-9388-4ade-8e07-a95f759378eb');\n",
              "          const dataTable =\n",
              "            await google.colab.kernel.invokeFunction('convertToInteractive',\n",
              "                                                     [key], {});\n",
              "          if (!dataTable) return;\n",
              "\n",
              "          const docLinkHtml = 'Like what you see? Visit the ' +\n",
              "            '<a target=\"_blank\" href=https://colab.research.google.com/notebooks/data_table.ipynb>data table notebook</a>'\n",
              "            + ' to learn more about interactive tables.';\n",
              "          element.innerHTML = '';\n",
              "          dataTable['output_type'] = 'display_data';\n",
              "          await google.colab.output.renderOutput(dataTable, element);\n",
              "          const docLink = document.createElement('div');\n",
              "          docLink.innerHTML = docLinkHtml;\n",
              "          element.appendChild(docLink);\n",
              "        }\n",
              "      </script>\n",
              "    </div>\n",
              "  </div>\n",
              "  "
            ]
          },
          "metadata": {},
          "execution_count": 79
        }
      ]
    },
    {
      "cell_type": "code",
      "source": [
        "dfresult=dfresult.sort_values(by='X_test')"
      ],
      "metadata": {
        "id": "7u9VZ9Jc5HF_"
      },
      "execution_count": null,
      "outputs": []
    },
    {
      "cell_type": "code",
      "source": [
        "plt.title('Random Forest Regressor Validation')\n",
        "plt.plot(Xval,yvprd,color='orange')\n",
        "#plt.plot(dfresult.X_test,dfresult.y_pred,color='orange')\n",
        "plt.plot(X,y,color='green')\n",
        "plt.plot(Xval,yval,color='blue')\n",
        "\n",
        "plt.xlabel('Cycle index ')\n",
        "plt.ylabel('Charge Capacity (Ah)')\n",
        "plt.legend(['Predicted','Actual (cell a)','Actual (cell b)']);"
      ],
      "metadata": {
        "colab": {
          "base_uri": "https://localhost:8080/",
          "height": 295
        },
        "outputId": "735e29d0-cf3d-4ff3-e290-4081ef8a179a",
        "id": "jCTHUDxD5HF_"
      },
      "execution_count": null,
      "outputs": [
        {
          "output_type": "display_data",
          "data": {
            "text/plain": [
              "<Figure size 432x288 with 1 Axes>"
            ],
            "image/png": "[encoded data removed]"
          },
          "metadata": {
            "needs_background": "light"
          }
        }
      ]
    },
    {
      "cell_type": "code",
      "source": [
        "plt.title('Random Forest Regressor Validation')\n",
        "plt.plot(Xval,yvprd,color='black',ls='--')\n",
        "#plt.plot(dfresult.X_test,dfresult.y_pred,color='orange')\n",
        "plt.plot(X,y,color='red')\n",
        "plt.plot(Xval,yval,color='blue')\n",
        "\n",
        "plt.xlabel('Cycle index ')\n",
        "plt.ylabel('Charge Capacity (Ah)')\n",
        "plt.legend(['Predicted','Actual (cell a)','Actual (cell b)']);"
      ],
      "metadata": {
        "colab": {
          "base_uri": "https://localhost:8080/",
          "height": 295
        },
        "id": "cZZYIkcpLKof",
        "outputId": "f59ccdcd-f1e8-4f2a-a344-eeceb2fd2202"
      },
      "execution_count": null,
      "outputs": [
        {
          "output_type": "display_data",
          "data": {
            "text/plain": [
              "<Figure size 432x288 with 1 Axes>"
            ],
            "image/png": "[encoded data removed]"
          },
          "metadata": {
            "needs_background": "light"
          }
        }
      ]
    },
    {
      "cell_type": "code",
      "source": [],
      "metadata": {
        "id": "Yk8BH7k2LRRC"
      },
      "execution_count": null,
      "outputs": []
    }
  ]
}